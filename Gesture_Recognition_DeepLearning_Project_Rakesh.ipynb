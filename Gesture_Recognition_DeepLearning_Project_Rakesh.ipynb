{
 "cells": [
  {
   "cell_type": "markdown",
   "metadata": {
    "id": "kq3hgGI3j5uY"
   },
   "source": [
    "# Gesture Recognition\n",
    "In this group project, you are going to build a 3D Conv model that will be able to predict the 5 gestures correctly. Please import the following libraries to get started."
   ]
  },
  {
   "cell_type": "code",
   "execution_count": 2,
   "metadata": {
    "id": "NBjrrSCQj5ue"
   },
   "outputs": [],
   "source": [
    "import numpy as np\n",
    "import os\n",
    "from imageio import imread\n",
    "from skimage.transform import resize\n",
    "import datetime\n",
    "import os\n",
    "\n",
    "import matplotlib.pyplot as plt\n",
    "import warnings\n",
    "warnings.filterwarnings('ignore')"
   ]
  },
  {
   "cell_type": "markdown",
   "metadata": {
    "id": "5ydld67Aj5uj"
   },
   "source": [
    "We set the random seed so that the results don't vary drastically."
   ]
  },
  {
   "cell_type": "code",
   "execution_count": 3,
   "metadata": {
    "id": "Xct0Ci43j5uk"
   },
   "outputs": [],
   "source": [
    "np.random.seed(30)\n",
    "import random as rn\n",
    "rn.seed(30)\n",
    "from keras import backend as K\n",
    "import tensorflow as tf\n",
    "tf.random.set_seed(30)"
   ]
  },
  {
   "cell_type": "markdown",
   "metadata": {
    "id": "K4L61vKkj5ul"
   },
   "source": [
    "In this block, you read the folder names for training and validation. You also set the `batch_size` here. Note that you set the batch size in such a way that you are able to use the GPU in full capacity. You keep increasing the batch size until the machine throws an error."
   ]
  },
  {
   "cell_type": "code",
   "execution_count": 4,
   "metadata": {
    "id": "lkRsJA4Mj5um"
   },
   "outputs": [],
   "source": [
    "train_doc = np.random.permutation(open('train.csv').readlines())\n",
    "val_doc = np.random.permutation(open('val.csv').readlines())"
   ]
  },
  {
   "cell_type": "markdown",
   "metadata": {
    "id": "iXFzkgdwj5un"
   },
   "source": [
    "## Generator\n",
    "This is one of the most important part of the code. The overall structure of the generator has been given. In the generator, you are going to preprocess the images as you have images of 2 different dimensions as well as create a batch of video frames. You have to experiment with `img_idx`, `y`,`z` and normalization such that you get high accuracy."
   ]
  },
  {
   "cell_type": "code",
   "execution_count": null,
   "metadata": {
    "id": "0zxpps5rj5uo"
   },
   "outputs": [],
   "source": [
    "def generator(source_path, folder_list, batch_size):\n",
    "    print( 'Source path = ', source_path, '; batch size =', batch_size)\n",
    "    img_idx = [0,1,2,4,6,8,10,12,14,16,18,20,22,24,26,27,28,29] #create a list of image numbers you want to use for a particular video\n",
    "    while True:\n",
    "        t = np.random.permutation(folder_list)\n",
    "        num_batches = int(len(folder_list)/batch_size)  # calculate the number of batches\n",
    "        for batch in range(num_batches):  # we iterate over the number of batches\n",
    "            batch_data = np.zeros((batch_size,x,y,z,3)) # x is the number of images you use for each video, (y,z) is the final size of the input images and 3 is the number of channels RGB\n",
    "            batch_labels = np.zeros((batch_size,5)) # batch_labels is the one hot representation of the output\n",
    "            for folder in range(batch_size): # iterate over the batch_size\n",
    "                imgs = os.listdir(source_path+'/'+ t[folder + (batch*batch_size)].split(';')[0]) # read all the images in the folder\n",
    "                for idx,item in enumerate(img_idx): #  Iterate iver the frames/images of a folder to read them in\n",
    "                    image = imread(source_path+'/'+ t[folder + (batch*batch_size)].strip().split(';')[0]+'/'+imgs[item]).astype(np.float32)\n",
    "                    \n",
    "                    #crop the images and resize them. Note that the images are of 2 different shape \n",
    "                    #and the conv3D will throw error if the inputs in a batch have different shapes\n",
    "                    \n",
    "                    if image.shape[1] == 160:\n",
    "                        image = resize(image[:,20:140,:],(y,z)).astype(np.float32)\n",
    "                    else:\n",
    "                        image = resize(image,(100,100)).astype(np.float32)\n",
    "\n",
    "                    batch_data[folder,idx,:,:,0] = (image[:,:,0]) / 255.0  #normalise and feed in the image\n",
    "                    batch_data[folder,idx,:,:,1] = (image[:,:,1]) / 255.0  #normalise and feed in the image\n",
    "                    batch_data[folder,idx,:,:,2] = (image[:,:,2]) / 255.0  #normalise and feed in the image\n",
    "                    \n",
    "                    batch_data[folder,idx,:,:,0] = image[:,:,0] - 104\n",
    "                    batch_data[folder,idx,:,:,1] = image[:,:,1] - 117\n",
    "                    batch_data[folder,idx,:,:,2] = image[:,:,2] - 123\n",
    "                    \n",
    "                batch_labels[folder, int(t[folder + (batch*batch_size)].strip().split(';')[2])] = 1\n",
    "            yield batch_data, batch_labels #you yield the batch_data and the batch_labels, remember what does yield do\n",
    "            \n",
    "            \n",
    "            \n",
    "        # write the code for the remaining data points which are left after full batches\n",
    "            \n",
    "        if (len(t)%batch_size) != 0:\n",
    "            batch_data = np.zeros((len(t)%batch_size,x,y,z,3))\n",
    "            batch_labels = np.zeros((len(t)%batch_size,5))\n",
    "            for folder in range(len(t)%batch_size):\n",
    "                imgs = os.listdir(source_path+'/'+ t[folder + (num_batches*batch_size)].split(';')[0])\n",
    "                for idx,item in enumerate(img_idx):\n",
    "                    image = imread(source_path+'/'+ t[folder + (num_batches*batch_size)].strip().split(';')[0]+'/'+imgs[item]).astype(np.float32)\n",
    "                    if image.shape[1] == 160:\n",
    "                        image = resize(image[:,20:140,:],(y,z)).astype(np.float32)\n",
    "                    else:\n",
    "                        image = resize(image,(y,z)).astype(np.float32)\n",
    "\n",
    "                    batch_data[folder,idx,:,:,0] = (image[:,:,0]) / 255.0  \n",
    "                    batch_data[folder,idx,:,:,1] = (image[:,:,1]) / 255.0  \n",
    "                    batch_data[folder,idx,:,:,2] = (image[:,:,2]) / 255.0 \n",
    "\n",
    "                    batch_data[folder,idx,:,:,0] = image[:,:,0] - 104\n",
    "                    batch_data[folder,idx,:,:,1] = image[:,:,1] - 117\n",
    "                    batch_data[folder,idx,:,:,2] = image[:,:,2] - 123\n",
    "\n",
    "                batch_labels[folder, int(t[folder + (num_batches*batch_size)].strip().split(';')[2])] = 1\n",
    "            yield batch_data, batch_labels\n",
    "    "
   ]
  },
  {
   "cell_type": "code",
   "execution_count": 5,
   "metadata": {
    "id": "IOM7Wjnuj5u3"
   },
   "outputs": [],
   "source": [
    "#Shortcut Function to create Kernels\n",
    "\n",
    "def make3dFilter(x):\n",
    "    return tuple([x]*3)\n",
    "\n",
    "def make2dFilter(x):\n",
    "    return tuple([x]*2)"
   ]
  },
  {
   "cell_type": "code",
   "execution_count": 6,
   "metadata": {
    "id": "rrR4-QxGj5u5"
   },
   "outputs": [],
   "source": [
    "#Shortcut Function to visulaize model results \n",
    "\n",
    "def plotModelHistory(h):\n",
    "    fig, ax = plt.subplots(1, 2, figsize=(15,4))\n",
    "    ax[0].plot(h.history['loss'])   \n",
    "    ax[0].plot(h.history['val_loss'])\n",
    "    ax[0].legend(['loss','val_loss'])\n",
    "    ax[0].title.set_text(\"Train loss vs Validation loss\")\n",
    "\n",
    "    ax[1].plot(h.history['categorical_accuracy'])   \n",
    "    ax[1].plot(h.history['val_categorical_accuracy'])\n",
    "    ax[1].legend(['categorical_accuracy','val_categorical_accuracy'])\n",
    "    ax[1].title.set_text(\"Train accuracy vs Validation accuracy\")\n",
    "    plt.show()\n",
    "\n",
    "    print(\"Max. Training Accuracy\", max(h.history['categorical_accuracy']))\n",
    "    print(\"Max. Validaiton Accuracy\", max(h.history['val_categorical_accuracy']))"
   ]
  },
  {
   "cell_type": "code",
   "execution_count": 8,
   "metadata": {
    "colab": {
     "base_uri": "https://localhost:8080/"
    },
    "id": "Y6R9opjWj5u6",
    "outputId": "e05d42ee-05db-48f7-d951-5bd84f3a0113"
   },
   "outputs": [
    {
     "name": "stdout",
     "output_type": "stream",
     "text": [
      "# training sequences = 663\n",
      "# validation sequences = 100\n",
      "# epochs = 10\n"
     ]
    }
   ],
   "source": [
    "curr_dt_time = datetime.datetime.now()\n",
    "train_path = 'train'\n",
    "val_path = 'val'\n",
    "num_train_sequences = len(train_doc)\n",
    "print('# training sequences =', num_train_sequences)\n",
    "num_val_sequences = len(val_doc)\n",
    "print('# validation sequences =', num_val_sequences)\n",
    "num_epochs = 10 # choose the number of epochs\n",
    "print ('# epochs =', num_epochs)"
   ]
  },
  {
   "cell_type": "markdown",
   "metadata": {
    "id": "a5s3XDF-j5u7"
   },
   "source": [
    "Note here that a video is represented above in the generator as (number of images, height, width, number of channels). Take this into consideration while creating the model architecture."
   ]
  },
  {
   "cell_type": "markdown",
   "metadata": {
    "id": "cHrtiHtpj5u8"
   },
   "source": [
    "## Model\n",
    "Here you make the model using different functionalities that Keras provides. Remember to use `Conv3D` and `MaxPooling3D` and not `Conv2D` and `Maxpooling2D` for a 3D convolution model. You would want to use `TimeDistributed` while building a Conv2D + RNN model. Also remember that the last layer is the softmax. Design the network in such a way that the model is able to give good accuracy on the least number of parameters so that it can fit in the memory of the webcam."
   ]
  },
  {
   "cell_type": "markdown",
   "metadata": {
    "id": "kFj1RMryj5u9"
   },
   "source": [
    "# Conv3D"
   ]
  },
  {
   "cell_type": "markdown",
   "metadata": {
    "id": "NUxVhCHpj5u9"
   },
   "source": [
    "## Cnv3d-(Model 1)"
   ]
  },
  {
   "cell_type": "markdown",
   "metadata": {
    "id": "Tc3Ck5JGj5u-"
   },
   "source": [
    ">> #### 18 Frames | Image_size= 100 * 100 | Batch Size = 20 | Epoch = 10"
   ]
  },
  {
   "cell_type": "code",
   "execution_count": null,
   "metadata": {
    "id": "8TAEoLk8j5u_"
   },
   "outputs": [],
   "source": [
    "batch_size =20     #experiment with the batch size 20\n",
    "x=18               #experiment with the Framea size  18\n",
    "y=100              #experiment with the image Height 100\n",
    "z=100              #experiment with the image width  100\n",
    "num_epochs = 10   #experiment with the Epoch 10"
   ]
  },
  {
   "cell_type": "code",
   "execution_count": null,
   "metadata": {
    "id": "eeA26cKfj5vA"
   },
   "outputs": [],
   "source": [
    "from keras.models import Sequential, Model\n",
    "from keras.layers import Dense, GRU, Flatten, TimeDistributed, Flatten, BatchNormalization, Activation,Dropout\n",
    "from keras.layers.convolutional import Conv3D, MaxPooling3D\n",
    "from keras.callbacks import ModelCheckpoint, ReduceLROnPlateau\n",
    "from tensorflow.keras import optimizers\n",
    "\n",
    "#write your model here\n",
    "model = Sequential()\n",
    "model.add(Conv3D(64, (3,3,3), strides=(1,1,1), padding='same', input_shape=(x,y,z,3)))\n",
    "model.add(BatchNormalization())\n",
    "model.add(Activation('elu'))\n",
    "model.add(MaxPooling3D(pool_size=(2,2,1), strides=(2,2,1)))\n",
    "\n",
    "model.add(Conv3D(128, (3,3,3), strides=(1,1,1), padding='same'))\n",
    "model.add(BatchNormalization())\n",
    "model.add(Activation('elu'))\n",
    "model.add(MaxPooling3D(pool_size=(2,2,2), strides=(2,2,2)))\n",
    "\n",
    "# model.add(Dropout(0.25))\n",
    "\n",
    "model.add(Conv3D(256, (3,3,3), strides=(1,1,1), padding='same'))\n",
    "model.add(BatchNormalization())\n",
    "model.add(Activation('elu'))\n",
    "model.add(MaxPooling3D(pool_size=(2,2,2), strides=(2,2,2)))\n",
    "\n",
    "# model.add(Dropout(0.25))\n",
    "\n",
    "model.add(Conv3D(256, (3,3,3), strides=(1,1,1), padding='same'))\n",
    "model.add(BatchNormalization())\n",
    "model.add(Activation('elu'))\n",
    "model.add(MaxPooling3D(pool_size=(2,2,2), strides=(2,2,2)))\n",
    "\n",
    "model.add(Flatten())\n",
    "model.add(Dropout(0.5))\n",
    "model.add(Dense(512, activation='elu'))\n",
    "model.add(Dropout(0.5))\n",
    "model.add(Dense(5, activation='softmax'))"
   ]
  },
  {
   "cell_type": "markdown",
   "metadata": {
    "id": "34cuL4qPj5vC"
   },
   "source": [
    "Now that you have written the model, the next step is to `compile` the model. When you print the `summary` of the model, you'll see the total number of parameters you have to train."
   ]
  },
  {
   "cell_type": "code",
   "execution_count": null,
   "metadata": {
    "colab": {
     "base_uri": "https://localhost:8080/"
    },
    "id": "IRvraoEnj5vC",
    "outputId": "797f447f-1373-4abc-e0fd-d1bdc17cfdc3",
    "scrolled": false
   },
   "outputs": [
    {
     "name": "stdout",
     "output_type": "stream",
     "text": [
      "Model: \"sequential_1\"\n",
      "_________________________________________________________________\n",
      "Layer (type)                 Output Shape              Param #   \n",
      "=================================================================\n",
      "conv3d_4 (Conv3D)            (None, 18, 100, 100, 64)  5248      \n",
      "_________________________________________________________________\n",
      "batch_normalization_4 (Batch (None, 18, 100, 100, 64)  256       \n",
      "_________________________________________________________________\n",
      "activation_4 (Activation)    (None, 18, 100, 100, 64)  0         \n",
      "_________________________________________________________________\n",
      "max_pooling3d_4 (MaxPooling3 (None, 9, 50, 100, 64)    0         \n",
      "_________________________________________________________________\n",
      "conv3d_5 (Conv3D)            (None, 9, 50, 100, 128)   221312    \n",
      "_________________________________________________________________\n",
      "batch_normalization_5 (Batch (None, 9, 50, 100, 128)   512       \n",
      "_________________________________________________________________\n",
      "activation_5 (Activation)    (None, 9, 50, 100, 128)   0         \n",
      "_________________________________________________________________\n",
      "max_pooling3d_5 (MaxPooling3 (None, 4, 25, 50, 128)    0         \n",
      "_________________________________________________________________\n",
      "conv3d_6 (Conv3D)            (None, 4, 25, 50, 256)    884992    \n",
      "_________________________________________________________________\n",
      "batch_normalization_6 (Batch (None, 4, 25, 50, 256)    1024      \n",
      "_________________________________________________________________\n",
      "activation_6 (Activation)    (None, 4, 25, 50, 256)    0         \n",
      "_________________________________________________________________\n",
      "max_pooling3d_6 (MaxPooling3 (None, 2, 12, 25, 256)    0         \n",
      "_________________________________________________________________\n",
      "conv3d_7 (Conv3D)            (None, 2, 12, 25, 256)    1769728   \n",
      "_________________________________________________________________\n",
      "batch_normalization_7 (Batch (None, 2, 12, 25, 256)    1024      \n",
      "_________________________________________________________________\n",
      "activation_7 (Activation)    (None, 2, 12, 25, 256)    0         \n",
      "_________________________________________________________________\n",
      "max_pooling3d_7 (MaxPooling3 (None, 1, 6, 12, 256)     0         \n",
      "_________________________________________________________________\n",
      "flatten_1 (Flatten)          (None, 18432)             0         \n",
      "_________________________________________________________________\n",
      "dropout_2 (Dropout)          (None, 18432)             0         \n",
      "_________________________________________________________________\n",
      "dense_2 (Dense)              (None, 512)               9437696   \n",
      "_________________________________________________________________\n",
      "dropout_3 (Dropout)          (None, 512)               0         \n",
      "_________________________________________________________________\n",
      "dense_3 (Dense)              (None, 5)                 2565      \n",
      "=================================================================\n",
      "Total params: 12,324,357\n",
      "Trainable params: 12,322,949\n",
      "Non-trainable params: 1,408\n",
      "_________________________________________________________________\n",
      "None\n"
     ]
    }
   ],
   "source": [
    "sgd = optimizers.SGD(learning_rate=0.001, decay=1e-6, momentum=0.7, nesterov=True)\n",
    "model.compile(optimizer=sgd, loss='categorical_crossentropy', metrics=['categorical_accuracy'])\n",
    "print (model.summary())"
   ]
  },
  {
   "cell_type": "markdown",
   "metadata": {
    "id": "JPxM5jTwj5vE"
   },
   "source": [
    "Let us create the `train_generator` and the `val_generator` which will be used in `.fit_generator`."
   ]
  },
  {
   "cell_type": "code",
   "execution_count": null,
   "metadata": {
    "id": "ityWi0anj5vE"
   },
   "outputs": [],
   "source": [
    "train_generator = generator(train_path, train_doc, batch_size)\n",
    "val_generator = generator(val_path, val_doc, batch_size)"
   ]
  },
  {
   "cell_type": "code",
   "execution_count": null,
   "metadata": {
    "colab": {
     "base_uri": "https://localhost:8080/"
    },
    "id": "_6kZb7zQj5vF",
    "outputId": "251030a9-855c-4853-95c3-b830b4ac83e5"
   },
   "outputs": [
    {
     "name": "stdout",
     "output_type": "stream",
     "text": [
      "WARNING:tensorflow:`period` argument is deprecated. Please use `save_freq` to specify the frequency in number of batches seen.\n",
      "WARNING:tensorflow:`epsilon` argument is deprecated and will be removed, use `min_delta` instead.\n"
     ]
    }
   ],
   "source": [
    "model_name = 'Cnv3d-(Model 1)' + '_' + '18_100_100_20_10' +'_'+ str(curr_dt_time).replace(' ','').replace(':','_')+'/'\n",
    "    \n",
    "if not os.path.exists(model_name):\n",
    "    os.mkdir(model_name)\n",
    "        \n",
    "filepath = model_name + 'model-{epoch:05d}-{loss:.5f}-{categorical_accuracy:.5f}-{val_loss:.5f}-{val_categorical_accuracy:.5f}.h5'\n",
    "\n",
    "checkpoint = ModelCheckpoint(filepath, monitor='val_loss', verbose=1, save_best_only=False, save_weights_only=False, mode='auto', period=1)\n",
    "\n",
    "LR = ReduceLROnPlateau(monitor='val_loss', factor=0.5, patience=2, verbose=1, mode='min', epsilon=0.0001, cooldown=0, min_lr=0.00001)\n",
    "callbacks_list = [checkpoint, LR]"
   ]
  },
  {
   "cell_type": "markdown",
   "metadata": {
    "id": "14jPshBVj5vG"
   },
   "source": [
    "The `steps_per_epoch` and `validation_steps` are used by `fit_generator` to decide the number of next() calls it need to make."
   ]
  },
  {
   "cell_type": "code",
   "execution_count": null,
   "metadata": {
    "id": "mwJndYkQj5vH"
   },
   "outputs": [],
   "source": [
    "if (num_train_sequences%batch_size) == 0:\n",
    "    steps_per_epoch = int(num_train_sequences/batch_size)\n",
    "else:\n",
    "    steps_per_epoch = (num_train_sequences//batch_size) + 1\n",
    "\n",
    "if (num_val_sequences%batch_size) == 0:\n",
    "    validation_steps = int(num_val_sequences/batch_size)\n",
    "else:\n",
    "    validation_steps = (num_val_sequences//batch_size) + 1"
   ]
  },
  {
   "cell_type": "markdown",
   "metadata": {
    "id": "swyf8maAj5vI"
   },
   "source": [
    "Let us now fit the model. This will start training the model and with the help of the checkpoints, you'll be able to save the model at the end of each epoch."
   ]
  },
  {
   "cell_type": "code",
   "execution_count": null,
   "metadata": {
    "colab": {
     "base_uri": "https://localhost:8080/"
    },
    "id": "F6ZPB4GNj5vI",
    "outputId": "123f63c0-249c-4b76-c083-2376f9ca805b",
    "scrolled": false
   },
   "outputs": [
    {
     "name": "stdout",
     "output_type": "stream",
     "text": [
      "Source path =  /content/drive/MyDrive/Project_data/Project_data/train ; batch size = 20\n",
      "Epoch 1/10\n",
      "34/34 [==============================] - ETA: 0s - loss: 3.2367 - categorical_accuracy: 0.3741 Source path =  /content/drive/MyDrive/Project_data/Project_data/val ; batch size = 20\n",
      "34/34 [==============================] - 1966s 59s/step - loss: 3.2367 - categorical_accuracy: 0.3741 - val_loss: 6.9240 - val_categorical_accuracy: 0.2300\n",
      "\n",
      "Epoch 00001: saving model to Cnv3d-(Model 1)_18_100_100_32_30_2021-10-1605_35_54.630108/model-00001-3.23674-0.37406-6.92404-0.23000.h5\n",
      "Epoch 2/10\n",
      "34/34 [==============================] - 202s 6s/step - loss: 1.7610 - categorical_accuracy: 0.5008 - val_loss: 5.5181 - val_categorical_accuracy: 0.3900\n",
      "\n",
      "Epoch 00002: saving model to Cnv3d-(Model 1)_18_100_100_32_30_2021-10-1605_35_54.630108/model-00002-1.76096-0.50075-5.51806-0.39000.h5\n",
      "Epoch 3/10\n",
      "34/34 [==============================] - 198s 6s/step - loss: 1.4077 - categorical_accuracy: 0.5641 - val_loss: 2.8473 - val_categorical_accuracy: 0.3100\n",
      "\n",
      "Epoch 00003: saving model to Cnv3d-(Model 1)_18_100_100_32_30_2021-10-1605_35_54.630108/model-00003-1.40771-0.56410-2.84726-0.31000.h5\n",
      "Epoch 4/10\n",
      "34/34 [==============================] - 193s 6s/step - loss: 1.1271 - categorical_accuracy: 0.6259 - val_loss: 1.9768 - val_categorical_accuracy: 0.4300\n",
      "\n",
      "Epoch 00004: saving model to Cnv3d-(Model 1)_18_100_100_32_30_2021-10-1605_35_54.630108/model-00004-1.12710-0.62594-1.97676-0.43000.h5\n",
      "Epoch 5/10\n",
      "34/34 [==============================] - 196s 6s/step - loss: 1.2132 - categorical_accuracy: 0.6094 - val_loss: 2.4647 - val_categorical_accuracy: 0.4200\n",
      "\n",
      "Epoch 00005: saving model to Cnv3d-(Model 1)_18_100_100_32_30_2021-10-1605_35_54.630108/model-00005-1.21321-0.60935-2.46471-0.42000.h5\n",
      "Epoch 6/10\n",
      "34/34 [==============================] - 196s 6s/step - loss: 1.0781 - categorical_accuracy: 0.6365 - val_loss: 1.0833 - val_categorical_accuracy: 0.6300\n",
      "\n",
      "Epoch 00006: saving model to Cnv3d-(Model 1)_18_100_100_32_30_2021-10-1605_35_54.630108/model-00006-1.07805-0.63650-1.08330-0.63000.h5\n",
      "Epoch 7/10\n",
      "34/34 [==============================] - 196s 6s/step - loss: 0.8867 - categorical_accuracy: 0.6893 - val_loss: 0.9131 - val_categorical_accuracy: 0.6700\n",
      "\n",
      "Epoch 00007: saving model to Cnv3d-(Model 1)_18_100_100_32_30_2021-10-1605_35_54.630108/model-00007-0.88673-0.68929-0.91307-0.67000.h5\n",
      "Epoch 8/10\n",
      "34/34 [==============================] - 200s 6s/step - loss: 0.7659 - categorical_accuracy: 0.7406 - val_loss: 0.6290 - val_categorical_accuracy: 0.7700\n",
      "\n",
      "Epoch 00008: saving model to Cnv3d-(Model 1)_18_100_100_32_30_2021-10-1605_35_54.630108/model-00008-0.76587-0.74057-0.62900-0.77000.h5\n",
      "Epoch 9/10\n",
      "34/34 [==============================] - 194s 6s/step - loss: 0.7232 - categorical_accuracy: 0.7360 - val_loss: 0.8302 - val_categorical_accuracy: 0.7200\n",
      "\n",
      "Epoch 00009: saving model to Cnv3d-(Model 1)_18_100_100_32_30_2021-10-1605_35_54.630108/model-00009-0.72324-0.73605-0.83017-0.72000.h5\n",
      "Epoch 10/10\n",
      "34/34 [==============================] - 199s 6s/step - loss: 0.5393 - categorical_accuracy: 0.8009 - val_loss: 0.7190 - val_categorical_accuracy: 0.7300\n",
      "\n",
      "Epoch 00010: saving model to Cnv3d-(Model 1)_18_100_100_32_30_2021-10-1605_35_54.630108/model-00010-0.53926-0.80090-0.71902-0.73000.h5\n",
      "\n",
      "Epoch 00010: ReduceLROnPlateau reducing learning rate to 0.0005000000237487257.\n"
     ]
    }
   ],
   "source": [
    "model1=model.fit(train_generator, steps_per_epoch=steps_per_epoch, epochs=num_epochs, verbose=1, \n",
    "                    callbacks=callbacks_list, validation_data=val_generator, \n",
    "                    validation_steps=validation_steps, class_weight=None, workers=1, initial_epoch=0)"
   ]
  },
  {
   "cell_type": "code",
   "execution_count": null,
   "metadata": {
    "colab": {
     "base_uri": "https://localhost:8080/",
     "height": 315
    },
    "id": "qyzjtUiJj5vJ",
    "outputId": "ee655c46-a1ec-4e9c-ba57-f9a1210927db",
    "scrolled": true
   },
   "outputs": [
    {
     "data": {
      "image/png": "[encoded data removed]",
      "text/plain": [
       "<Figure size 1080x288 with 2 Axes>"
      ]
     },
     "metadata": {
      "needs_background": "light"
     },
     "output_type": "display_data"
    },
    {
     "name": "stdout",
     "output_type": "stream",
     "text": [
      "Max. Training Accuracy 0.8009049892425537\n",
      "Max. Validaiton Accuracy 0.7699999809265137\n"
     ]
    }
   ],
   "source": [
    "plotModelHistory(model1)"
   ]
  },
  {
   "cell_type": "markdown",
   "metadata": {
    "id": "I0Og4l28j5vK"
   },
   "source": [
    "## Cnv3d-(Model 2)"
   ]
  },
  {
   "cell_type": "markdown",
   "metadata": {
    "id": "Ren7RDNdj5vK"
   },
   "source": [
    ">> ####  18 Frames | Image_size= 100 * 100 | Batch Size = 25 | Epoch = 20"
   ]
  },
  {
   "cell_type": "code",
   "execution_count": null,
   "metadata": {
    "id": "_q5vjVzGj5vL"
   },
   "outputs": [],
   "source": [
    "batch_size =25    #experiment with the batch size 25\n",
    "x=18             #experiment with the Frame size  18\n",
    "y=100              #experiment with the image Height 100\n",
    "z=100              #experiment with the image width  100\n",
    "num_epochs = 20   #experiment with the Epoch 20"
   ]
  },
  {
   "cell_type": "code",
   "execution_count": null,
   "metadata": {
    "colab": {
     "base_uri": "https://localhost:8080/",
     "height": 1000
    },
    "id": "MwwJsYdJj5vM",
    "outputId": "93cfdc75-cc1b-4c65-fe5f-82304d0e7720",
    "scrolled": false
   },
   "outputs": [
    {
     "name": "stdout",
     "output_type": "stream",
     "text": [
      "Model: \"sequential_10\"\n",
      "_________________________________________________________________\n",
      "Layer (type)                 Output Shape              Param #   \n",
      "=================================================================\n",
      "conv3d (Conv3D)              (None, 18, 100, 100, 64)  5248      \n",
      "_________________________________________________________________\n",
      "batch_normalization_4 (Batch (None, 18, 100, 100, 64)  256       \n",
      "_________________________________________________________________\n",
      "activation (Activation)      (None, 18, 100, 100, 64)  0         \n",
      "_________________________________________________________________\n",
      "max_pooling3d (MaxPooling3D) (None, 9, 50, 100, 64)    0         \n",
      "_________________________________________________________________\n",
      "conv3d_1 (Conv3D)            (None, 9, 50, 100, 128)   221312    \n",
      "_________________________________________________________________\n",
      "batch_normalization_5 (Batch (None, 9, 50, 100, 128)   512       \n",
      "_________________________________________________________________\n",
      "activation_1 (Activation)    (None, 9, 50, 100, 128)   0         \n",
      "_________________________________________________________________\n",
      "max_pooling3d_1 (MaxPooling3 (None, 4, 25, 50, 128)    0         \n",
      "_________________________________________________________________\n",
      "conv3d_2 (Conv3D)            (None, 4, 25, 50, 256)    884992    \n",
      "_________________________________________________________________\n",
      "batch_normalization_6 (Batch (None, 4, 25, 50, 256)    1024      \n",
      "_________________________________________________________________\n",
      "activation_2 (Activation)    (None, 4, 25, 50, 256)    0         \n",
      "_________________________________________________________________\n",
      "max_pooling3d_2 (MaxPooling3 (None, 2, 12, 25, 256)    0         \n",
      "_________________________________________________________________\n",
      "conv3d_3 (Conv3D)            (None, 2, 12, 25, 256)    1769728   \n",
      "_________________________________________________________________\n",
      "batch_normalization_7 (Batch (None, 2, 12, 25, 256)    1024      \n",
      "_________________________________________________________________\n",
      "activation_3 (Activation)    (None, 2, 12, 25, 256)    0         \n",
      "_________________________________________________________________\n",
      "max_pooling3d_3 (MaxPooling3 (None, 1, 6, 12, 256)     0         \n",
      "_________________________________________________________________\n",
      "flatten_10 (Flatten)         (None, 18432)             0         \n",
      "_________________________________________________________________\n",
      "dropout_3 (Dropout)          (None, 18432)             0         \n",
      "_________________________________________________________________\n",
      "dense_11 (Dense)             (None, 512)               9437696   \n",
      "_________________________________________________________________\n",
      "dropout_4 (Dropout)          (None, 512)               0         \n",
      "_________________________________________________________________\n",
      "dense_12 (Dense)             (None, 5)                 2565      \n",
      "=================================================================\n",
      "Total params: 12,324,357\n",
      "Trainable params: 12,322,949\n",
      "Non-trainable params: 1,408\n",
      "_________________________________________________________________\n",
      "None\n",
      "WARNING:tensorflow:`period` argument is deprecated. Please use `save_freq` to specify the frequency in number of batches seen.\n",
      "WARNING:tensorflow:`epsilon` argument is deprecated and will be removed, use `min_delta` instead.\n",
      "Source path =  /content/drive/MyDrive/Project_data/Project_data/train ; batch size = 25\n",
      "Epoch 1/20\n",
      "27/27 [==============================] - ETA: 0s - loss: 3.3486 - categorical_accuracy: 0.3725 Source path =  /content/drive/MyDrive/Project_data/Project_data/val ; batch size = 25\n",
      "27/27 [==============================] - 619s 23s/step - loss: 3.3486 - categorical_accuracy: 0.3725 - val_loss: 5.8625 - val_categorical_accuracy: 0.2400\n",
      "\n",
      "Epoch 00001: saving model to Cnv3d-(Model 2)_16_100_100_32_20_2021-10-1706_19_23.332316/model-00001-3.34858-0.37255-5.86245-0.24000.h5\n",
      "Epoch 2/20\n",
      "27/27 [==============================] - 216s 8s/step - loss: 1.5526 - categorical_accuracy: 0.5189 - val_loss: 5.0220 - val_categorical_accuracy: 0.3000\n",
      "\n",
      "Epoch 00002: saving model to Cnv3d-(Model 2)_16_100_100_32_20_2021-10-1706_19_23.332316/model-00002-1.55264-0.51885-5.02199-0.30000.h5\n",
      "Epoch 3/20\n",
      "27/27 [==============================] - 210s 8s/step - loss: 1.2551 - categorical_accuracy: 0.5596 - val_loss: 3.2051 - val_categorical_accuracy: 0.3200\n",
      "\n",
      "Epoch 00003: saving model to Cnv3d-(Model 2)_16_100_100_32_20_2021-10-1706_19_23.332316/model-00003-1.25508-0.55958-3.20514-0.32000.h5\n",
      "Epoch 4/20\n",
      "27/27 [==============================] - 211s 8s/step - loss: 1.1089 - categorical_accuracy: 0.6440 - val_loss: 2.6981 - val_categorical_accuracy: 0.3600\n",
      "\n",
      "Epoch 00004: saving model to Cnv3d-(Model 2)_16_100_100_32_20_2021-10-1706_19_23.332316/model-00004-1.10888-0.64404-2.69811-0.36000.h5\n",
      "Epoch 5/20\n",
      "27/27 [==============================] - 213s 8s/step - loss: 1.0456 - categorical_accuracy: 0.6380 - val_loss: 1.8178 - val_categorical_accuracy: 0.5100\n",
      "\n",
      "Epoch 00005: saving model to Cnv3d-(Model 2)_16_100_100_32_20_2021-10-1706_19_23.332316/model-00005-1.04563-0.63801-1.81776-0.51000.h5\n",
      "Epoch 6/20\n",
      "27/27 [==============================] - 213s 8s/step - loss: 0.8595 - categorical_accuracy: 0.6802 - val_loss: 1.7761 - val_categorical_accuracy: 0.5400\n",
      "\n",
      "Epoch 00006: saving model to Cnv3d-(Model 2)_16_100_100_32_20_2021-10-1706_19_23.332316/model-00006-0.85951-0.68024-1.77611-0.54000.h5\n",
      "Epoch 7/20\n",
      "27/27 [==============================] - 210s 8s/step - loss: 0.7650 - categorical_accuracy: 0.7089 - val_loss: 0.7597 - val_categorical_accuracy: 0.7400\n",
      "\n",
      "Epoch 00007: saving model to Cnv3d-(Model 2)_16_100_100_32_20_2021-10-1706_19_23.332316/model-00007-0.76503-0.70890-0.75972-0.74000.h5\n",
      "Epoch 8/20\n",
      "27/27 [==============================] - 217s 8s/step - loss: 0.7097 - categorical_accuracy: 0.7376 - val_loss: 1.0569 - val_categorical_accuracy: 0.6400\n",
      "\n",
      "Epoch 00008: saving model to Cnv3d-(Model 2)_16_100_100_32_20_2021-10-1706_19_23.332316/model-00008-0.70970-0.73756-1.05690-0.64000.h5\n",
      "Epoch 9/20\n",
      "27/27 [==============================] - 211s 8s/step - loss: 0.6098 - categorical_accuracy: 0.7843 - val_loss: 0.8563 - val_categorical_accuracy: 0.6800\n",
      "\n",
      "Epoch 00009: saving model to Cnv3d-(Model 2)_16_100_100_32_20_2021-10-1706_19_23.332316/model-00009-0.60981-0.78431-0.85629-0.68000.h5\n",
      "\n",
      "Epoch 00009: ReduceLROnPlateau reducing learning rate to 0.0005000000237487257.\n",
      "Epoch 10/20\n",
      "27/27 [==============================] - 208s 8s/step - loss: 0.5248 - categorical_accuracy: 0.8115 - val_loss: 0.6426 - val_categorical_accuracy: 0.7500\n",
      "\n",
      "Epoch 00010: saving model to Cnv3d-(Model 2)_16_100_100_32_20_2021-10-1706_19_23.332316/model-00010-0.52476-0.81146-0.64258-0.75000.h5\n",
      "Epoch 11/20\n",
      "27/27 [==============================] - 212s 8s/step - loss: 0.5238 - categorical_accuracy: 0.8220 - val_loss: 0.7197 - val_categorical_accuracy: 0.7700\n",
      "\n",
      "Epoch 00011: saving model to Cnv3d-(Model 2)_16_100_100_32_20_2021-10-1706_19_23.332316/model-00011-0.52377-0.82202-0.71970-0.77000.h5\n",
      "Epoch 12/20\n",
      "27/27 [==============================] - 211s 8s/step - loss: 0.4449 - categorical_accuracy: 0.8281 - val_loss: 0.7716 - val_categorical_accuracy: 0.7900\n",
      "\n",
      "Epoch 00012: saving model to Cnv3d-(Model 2)_16_100_100_32_20_2021-10-1706_19_23.332316/model-00012-0.44494-0.82805-0.77158-0.79000.h5\n",
      "\n",
      "Epoch 00012: ReduceLROnPlateau reducing learning rate to 0.0002500000118743628.\n",
      "Epoch 13/20\n",
      "27/27 [==============================] - 211s 8s/step - loss: 0.5281 - categorical_accuracy: 0.8069 - val_loss: 0.6546 - val_categorical_accuracy: 0.7700\n",
      "\n",
      "Epoch 00013: saving model to Cnv3d-(Model 2)_16_100_100_32_20_2021-10-1706_19_23.332316/model-00013-0.52808-0.80694-0.65463-0.77000.h5\n",
      "Epoch 14/20\n",
      "27/27 [==============================] - 214s 8s/step - loss: 0.3970 - categorical_accuracy: 0.8537 - val_loss: 0.6083 - val_categorical_accuracy: 0.7900\n",
      "\n",
      "Epoch 00014: saving model to Cnv3d-(Model 2)_16_100_100_32_20_2021-10-1706_19_23.332316/model-00014-0.39704-0.85370-0.60832-0.79000.h5\n",
      "Epoch 15/20\n",
      "27/27 [==============================] - 208s 8s/step - loss: 0.3876 - categorical_accuracy: 0.8477 - val_loss: 0.8731 - val_categorical_accuracy: 0.6800\n",
      "\n",
      "Epoch 00015: saving model to Cnv3d-(Model 2)_16_100_100_32_20_2021-10-1706_19_23.332316/model-00015-0.38762-0.84766-0.87310-0.68000.h5\n",
      "Epoch 16/20\n",
      "27/27 [==============================] - 207s 8s/step - loss: 0.4184 - categorical_accuracy: 0.8431 - val_loss: 0.6000 - val_categorical_accuracy: 0.7700\n",
      "\n",
      "Epoch 00016: saving model to Cnv3d-(Model 2)_16_100_100_32_20_2021-10-1706_19_23.332316/model-00016-0.41838-0.84314-0.60005-0.77000.h5\n",
      "Epoch 17/20\n",
      "27/27 [==============================] - 210s 8s/step - loss: 0.3488 - categorical_accuracy: 0.8627 - val_loss: 0.6227 - val_categorical_accuracy: 0.7900\n",
      "\n",
      "Epoch 00017: saving model to Cnv3d-(Model 2)_16_100_100_32_20_2021-10-1706_19_23.332316/model-00017-0.34875-0.86275-0.62266-0.79000.h5\n",
      "Epoch 18/20\n",
      "27/27 [==============================] - 199s 8s/step - loss: 0.4059 - categorical_accuracy: 0.8492 - val_loss: 0.6812 - val_categorical_accuracy: 0.7700\n",
      "\n",
      "Epoch 00018: saving model to Cnv3d-(Model 2)_16_100_100_32_20_2021-10-1706_19_23.332316/model-00018-0.40595-0.84917-0.68119-0.77000.h5\n",
      "\n",
      "Epoch 00018: ReduceLROnPlateau reducing learning rate to 0.0001250000059371814.\n",
      "Epoch 19/20\n",
      "27/27 [==============================] - 191s 7s/step - loss: 0.3186 - categorical_accuracy: 0.8854 - val_loss: 0.5128 - val_categorical_accuracy: 0.8500\n",
      "\n",
      "Epoch 00019: saving model to Cnv3d-(Model 2)_16_100_100_32_20_2021-10-1706_19_23.332316/model-00019-0.31856-0.88537-0.51278-0.85000.h5\n",
      "Epoch 20/20\n",
      "27/27 [==============================] - 192s 7s/step - loss: 0.3596 - categorical_accuracy: 0.8733 - val_loss: 0.6673 - val_categorical_accuracy: 0.7800\n",
      "\n",
      "Epoch 00020: saving model to Cnv3d-(Model 2)_16_100_100_32_20_2021-10-1706_19_23.332316/model-00020-0.35964-0.87330-0.66728-0.78000.h5\n"
     ]
    },
    {
     "data": {
      "image/png": "[encoded data removed]",
      "text/plain": [
       "<Figure size 1080x288 with 2 Axes>"
      ]
     },
     "metadata": {
      "needs_background": "light"
     },
     "output_type": "display_data"
    },
    {
     "name": "stdout",
     "output_type": "stream",
     "text": [
      "Max. Training Accuracy 0.8853695392608643\n",
      "Max. Validaiton Accuracy 0.8500000238418579\n"
     ]
    }
   ],
   "source": [
    "from keras.models import Sequential, Model\n",
    "from keras.layers import Dense, GRU, Flatten, TimeDistributed, Flatten, BatchNormalization, Activation,Dropout\n",
    "from keras.layers.convolutional import Conv3D, MaxPooling3D\n",
    "from keras.callbacks import ModelCheckpoint, ReduceLROnPlateau\n",
    "from tensorflow.keras import optimizers\n",
    "\n",
    "#write your model here\n",
    "model = Sequential()\n",
    "model.add(Conv3D(64, (3,3,3), strides=(1,1,1), padding='same', input_shape=(x,y,z,3)))\n",
    "model.add(BatchNormalization())\n",
    "model.add(Activation('elu'))\n",
    "model.add(MaxPooling3D(pool_size=(2,2,1), strides=(2,2,1)))\n",
    "\n",
    "model.add(Conv3D(128, (3,3,3), strides=(1,1,1), padding='same'))\n",
    "model.add(BatchNormalization())\n",
    "model.add(Activation('elu'))\n",
    "model.add(MaxPooling3D(pool_size=(2,2,2), strides=(2,2,2)))\n",
    "\n",
    "# model.add(Dropout(0.25))\n",
    "\n",
    "model.add(Conv3D(256, (3,3,3), strides=(1,1,1), padding='same'))\n",
    "model.add(BatchNormalization())\n",
    "model.add(Activation('elu'))\n",
    "model.add(MaxPooling3D(pool_size=(2,2,2), strides=(2,2,2)))\n",
    "\n",
    "# model.add(Dropout(0.25))\n",
    "\n",
    "model.add(Conv3D(256, (3,3,3), strides=(1,1,1), padding='same'))\n",
    "model.add(BatchNormalization())\n",
    "model.add(Activation('elu'))\n",
    "model.add(MaxPooling3D(pool_size=(2,2,2), strides=(2,2,2)))\n",
    "\n",
    "model.add(Flatten())\n",
    "model.add(Dropout(0.5))\n",
    "model.add(Dense(512, activation='elu'))\n",
    "model.add(Dropout(0.5))\n",
    "model.add(Dense(5, activation='softmax'))\n",
    "\n",
    "\n",
    "#Compliation\n",
    "\n",
    "sgd = optimizers.SGD(learning_rate=0.001, decay=1e-6, momentum=0.7, nesterov=True)\n",
    "model.compile(optimizer=sgd, loss='categorical_crossentropy', metrics=['categorical_accuracy'])\n",
    "print (model.summary())\n",
    "\n",
    "\n",
    "#Genrator Creation \n",
    "\n",
    "train_generator = generator(train_path, train_doc, batch_size)\n",
    "val_generator = generator(val_path, val_doc, batch_size)\n",
    "\n",
    "\n",
    "# Callback Document Saving \".h5\"\n",
    "\n",
    "model_name = 'Cnv3d-(Model 2)' + '_' + '16_100_100_25_20' +'_'+ str(curr_dt_time).replace(' ','').replace(':','_')+'/'\n",
    "    \n",
    "if not os.path.exists(model_name):\n",
    "    os.mkdir(model_name)\n",
    "        \n",
    "filepath = model_name + 'model-{epoch:05d}-{loss:.5f}-{categorical_accuracy:.5f}-{val_loss:.5f}-{val_categorical_accuracy:.5f}.h5'\n",
    "\n",
    "checkpoint = ModelCheckpoint(filepath, monitor='val_loss', verbose=1, save_best_only=False, save_weights_only=False, mode='auto', period=1)\n",
    "\n",
    "LR = ReduceLROnPlateau(monitor='val_loss', factor=0.5, patience=2, verbose=1, mode='min', epsilon=0.0001, cooldown=0, min_lr=0.00001)\n",
    "callbacks_list = [checkpoint, LR]\n",
    "\n",
    "\n",
    "\n",
    "# The steps_per_epoch and validation_steps are used by fit_generator to decide the number of next() calls it need to make.\n",
    "\n",
    "if (num_train_sequences%batch_size) == 0:\n",
    "    steps_per_epoch = int(num_train_sequences/batch_size)\n",
    "else:\n",
    "    steps_per_epoch = (num_train_sequences//batch_size) + 1\n",
    "\n",
    "if (num_val_sequences%batch_size) == 0:\n",
    "    validation_steps = int(num_val_sequences/batch_size)\n",
    "else:\n",
    "    validation_steps = (num_val_sequences//batch_size) + 1\n",
    "    \n",
    "    \n",
    "    \n",
    "# Let us now fit the model. This will start training the model and with the help of the checkpoints, you'll be able to save the model at the end of each epoch.'''\n",
    "\n",
    "\n",
    "model1=model.fit(train_generator, steps_per_epoch=steps_per_epoch, epochs=num_epochs, verbose=1, \n",
    "                    callbacks=callbacks_list, validation_data=val_generator, \n",
    "                    validation_steps=validation_steps, class_weight=None, workers=1, initial_epoch=0)\n",
    "\n",
    "\n",
    "plotModelHistory(model1)"
   ]
  },
  {
   "cell_type": "markdown",
   "metadata": {
    "id": "6HKlHG-0j5vN"
   },
   "source": [
    "## Cnv3d-(Model 3)"
   ]
  },
  {
   "cell_type": "markdown",
   "metadata": {
    "id": "5Wepnr1lj5vO"
   },
   "source": [
    "> ##### 20 Frames | Image_size= 100 * 100 |   Batch Size = 64    |    Epoch = 50    |   Batch Normalization before Maxpooling   |   Kernel_Size - (2,2,2)   |    Activation_Function-\"Relu\"    |    Optimizer - \"Adam\""
   ]
  },
  {
   "cell_type": "code",
   "execution_count": null,
   "metadata": {
    "id": "axXnX1_pj5vO"
   },
   "outputs": [],
   "source": [
    "batch_size =64     #experiment with the batch size 64\n",
    "x=20               #experiment with the Frame size  20\n",
    "y=100              #experiment with the image Height 100\n",
    "z=100              #experiment with the image width  100\n",
    "num_epochs = 50   #experiment with the Epoch 50"
   ]
  },
  {
   "cell_type": "code",
   "execution_count": null,
   "metadata": {
    "colab": {
     "base_uri": "https://localhost:8080/",
     "height": 1000
    },
    "id": "y1PYVG6vj5vP",
    "outputId": "38fb371b-f290-4f74-dccc-a94e461fabc8",
    "scrolled": false
   },
   "outputs": [
    {
     "name": "stdout",
     "output_type": "stream",
     "text": [
      "Model: \"sequential_6\"\n",
      "_________________________________________________________________\n",
      "Layer (type)                 Output Shape              Param #   \n",
      "=================================================================\n",
      "conv3d_24 (Conv3D)           (None, 20, 100, 100, 16)  400       \n",
      "_________________________________________________________________\n",
      "batch_normalization_24 (Batc (None, 20, 100, 100, 16)  64        \n",
      "_________________________________________________________________\n",
      "activation_24 (Activation)   (None, 20, 100, 100, 16)  0         \n",
      "_________________________________________________________________\n",
      "max_pooling3d_24 (MaxPooling (None, 10, 50, 100, 16)   0         \n",
      "_________________________________________________________________\n",
      "conv3d_25 (Conv3D)           (None, 10, 50, 100, 32)   4128      \n",
      "_________________________________________________________________\n",
      "batch_normalization_25 (Batc (None, 10, 50, 100, 32)   128       \n",
      "_________________________________________________________________\n",
      "dropout_12 (Dropout)         (None, 10, 50, 100, 32)   0         \n",
      "_________________________________________________________________\n",
      "activation_25 (Activation)   (None, 10, 50, 100, 32)   0         \n",
      "_________________________________________________________________\n",
      "max_pooling3d_25 (MaxPooling (None, 5, 25, 100, 32)    0         \n",
      "_________________________________________________________________\n",
      "conv3d_26 (Conv3D)           (None, 5, 25, 100, 64)    16448     \n",
      "_________________________________________________________________\n",
      "batch_normalization_26 (Batc (None, 5, 25, 100, 64)    256       \n",
      "_________________________________________________________________\n",
      "activation_26 (Activation)   (None, 5, 25, 100, 64)    0         \n",
      "_________________________________________________________________\n",
      "max_pooling3d_26 (MaxPooling (None, 2, 12, 100, 64)    0         \n",
      "_________________________________________________________________\n",
      "dropout_13 (Dropout)         (None, 2, 12, 100, 64)    0         \n",
      "_________________________________________________________________\n",
      "conv3d_27 (Conv3D)           (None, 2, 12, 100, 128)   65664     \n",
      "_________________________________________________________________\n",
      "batch_normalization_27 (Batc (None, 2, 12, 100, 128)   512       \n",
      "_________________________________________________________________\n",
      "activation_27 (Activation)   (None, 2, 12, 100, 128)   0         \n",
      "_________________________________________________________________\n",
      "max_pooling3d_27 (MaxPooling (None, 1, 6, 100, 128)    0         \n",
      "_________________________________________________________________\n",
      "flatten_6 (Flatten)          (None, 76800)             0         \n",
      "_________________________________________________________________\n",
      "dropout_14 (Dropout)         (None, 76800)             0         \n",
      "_________________________________________________________________\n",
      "dense_12 (Dense)             (None, 256)               19661056  \n",
      "_________________________________________________________________\n",
      "dropout_15 (Dropout)         (None, 256)               0         \n",
      "_________________________________________________________________\n",
      "dense_13 (Dense)             (None, 5)                 1285      \n",
      "=================================================================\n",
      "Total params: 19,749,941\n",
      "Trainable params: 19,749,461\n",
      "Non-trainable params: 480\n",
      "_________________________________________________________________\n",
      "None\n",
      "WARNING:tensorflow:`period` argument is deprecated. Please use `save_freq` to specify the frequency in number of batches seen.\n",
      "WARNING:tensorflow:`epsilon` argument is deprecated and will be removed, use `min_delta` instead.\n",
      "Source path =  /content/drive/MyDrive/Project_data/Project_data/train ; batch size = 64\n",
      "Epoch 1/50\n",
      "11/11 [==============================] - ETA: 0s - loss: 45.8188 - categorical_accuracy: 0.2474 Source path =  /content/drive/MyDrive/Project_data/Project_data/val ; batch size = 64\n",
      "11/11 [==============================] - 198s 19s/step - loss: 45.8188 - categorical_accuracy: 0.2474 - val_loss: 111.9183 - val_categorical_accuracy: 0.2500\n",
      "\n",
      "Epoch 00001: saving model to Cnv3d-(Model 3)_20_100_100_64_50_2021-10-1605_35_54.630108/model-00001-45.81882-0.24736-111.91825-0.25000.h5\n",
      "Epoch 2/50\n",
      "11/11 [==============================] - 189s 19s/step - loss: 6.2833 - categorical_accuracy: 0.3454 - val_loss: 68.9734 - val_categorical_accuracy: 0.2300\n",
      "\n",
      "Epoch 00002: saving model to Cnv3d-(Model 3)_20_100_100_64_50_2021-10-1605_35_54.630108/model-00002-6.28335-0.34540-68.97340-0.23000.h5\n",
      "Epoch 3/50\n",
      "11/11 [==============================] - 197s 20s/step - loss: 1.6903 - categorical_accuracy: 0.3213 - val_loss: 21.3477 - val_categorical_accuracy: 0.1900\n",
      "\n",
      "Epoch 00003: saving model to Cnv3d-(Model 3)_20_100_100_64_50_2021-10-1605_35_54.630108/model-00003-1.69027-0.32127-21.34774-0.19000.h5\n",
      "Epoch 4/50\n",
      "11/11 [==============================] - 185s 18s/step - loss: 1.6164 - categorical_accuracy: 0.2700 - val_loss: 9.6765 - val_categorical_accuracy: 0.2900\n",
      "\n",
      "Epoch 00004: saving model to Cnv3d-(Model 3)_20_100_100_64_50_2021-10-1605_35_54.630108/model-00004-1.61638-0.26998-9.67647-0.29000.h5\n",
      "Epoch 5/50\n",
      "11/11 [==============================] - 192s 19s/step - loss: 1.5194 - categorical_accuracy: 0.2971 - val_loss: 3.3407 - val_categorical_accuracy: 0.2800\n",
      "\n",
      "Epoch 00005: saving model to Cnv3d-(Model 3)_20_100_100_64_50_2021-10-1605_35_54.630108/model-00005-1.51944-0.29713-3.34070-0.28000.h5\n",
      "Epoch 6/50\n",
      "11/11 [==============================] - 185s 18s/step - loss: 1.5131 - categorical_accuracy: 0.3047 - val_loss: 3.0131 - val_categorical_accuracy: 0.2900\n",
      "\n",
      "Epoch 00006: saving model to Cnv3d-(Model 3)_20_100_100_64_50_2021-10-1605_35_54.630108/model-00006-1.51315-0.30468-3.01310-0.29000.h5\n",
      "Epoch 7/50\n",
      "11/11 [==============================] - 193s 19s/step - loss: 1.4709 - categorical_accuracy: 0.3394 - val_loss: 3.3190 - val_categorical_accuracy: 0.2700\n",
      "\n",
      "Epoch 00007: saving model to Cnv3d-(Model 3)_20_100_100_64_50_2021-10-1605_35_54.630108/model-00007-1.47087-0.33937-3.31902-0.27000.h5\n",
      "Epoch 8/50\n",
      "11/11 [==============================] - 188s 19s/step - loss: 1.4289 - categorical_accuracy: 0.3680 - val_loss: 2.5776 - val_categorical_accuracy: 0.2800\n",
      "\n",
      "Epoch 00008: saving model to Cnv3d-(Model 3)_20_100_100_64_50_2021-10-1605_35_54.630108/model-00008-1.42889-0.36802-2.57758-0.28000.h5\n",
      "Epoch 9/50\n",
      "11/11 [==============================] - 193s 19s/step - loss: 1.3960 - categorical_accuracy: 0.3922 - val_loss: 2.0169 - val_categorical_accuracy: 0.3900\n",
      "\n",
      "Epoch 00009: saving model to Cnv3d-(Model 3)_20_100_100_64_50_2021-10-1605_35_54.630108/model-00009-1.39603-0.39216-2.01686-0.39000.h5\n",
      "Epoch 10/50\n",
      "11/11 [==============================] - 187s 19s/step - loss: 1.4321 - categorical_accuracy: 0.3861 - val_loss: 1.6563 - val_categorical_accuracy: 0.4000\n",
      "\n",
      "Epoch 00010: saving model to Cnv3d-(Model 3)_20_100_100_64_50_2021-10-1605_35_54.630108/model-00010-1.43209-0.38612-1.65627-0.40000.h5\n",
      "Epoch 11/50\n",
      "11/11 [==============================] - 192s 19s/step - loss: 1.3998 - categorical_accuracy: 0.3861 - val_loss: 1.4976 - val_categorical_accuracy: 0.4000\n",
      "\n",
      "Epoch 00011: saving model to Cnv3d-(Model 3)_20_100_100_64_50_2021-10-1605_35_54.630108/model-00011-1.39983-0.38612-1.49758-0.40000.h5\n",
      "Epoch 12/50\n",
      "11/11 [==============================] - 188s 19s/step - loss: 1.4334 - categorical_accuracy: 0.3665 - val_loss: 1.4319 - val_categorical_accuracy: 0.4000\n",
      "\n",
      "Epoch 00012: saving model to Cnv3d-(Model 3)_20_100_100_64_50_2021-10-1605_35_54.630108/model-00012-1.43337-0.36652-1.43192-0.40000.h5\n",
      "Epoch 13/50\n",
      "11/11 [==============================] - 193s 19s/step - loss: 1.3862 - categorical_accuracy: 0.3906 - val_loss: 1.5663 - val_categorical_accuracy: 0.3800\n",
      "\n",
      "Epoch 00013: saving model to Cnv3d-(Model 3)_20_100_100_64_50_2021-10-1605_35_54.630108/model-00013-1.38624-0.39065-1.56630-0.38000.h5\n",
      "Epoch 14/50\n",
      "11/11 [==============================] - 180s 18s/step - loss: 1.3618 - categorical_accuracy: 0.4178 - val_loss: 1.4692 - val_categorical_accuracy: 0.4200\n",
      "\n",
      "Epoch 00014: saving model to Cnv3d-(Model 3)_20_100_100_64_50_2021-10-1605_35_54.630108/model-00014-1.36178-0.41780-1.46919-0.42000.h5\n",
      "\n",
      "Epoch 00014: ReduceLROnPlateau reducing learning rate to 0.0005000000237487257.\n",
      "Epoch 15/50\n",
      "11/11 [==============================] - 192s 19s/step - loss: 1.3369 - categorical_accuracy: 0.4118 - val_loss: 1.2646 - val_categorical_accuracy: 0.4700\n",
      "\n",
      "Epoch 00015: saving model to Cnv3d-(Model 3)_20_100_100_64_50_2021-10-1605_35_54.630108/model-00015-1.33685-0.41176-1.26460-0.47000.h5\n",
      "Epoch 16/50\n",
      "11/11 [==============================] - 180s 18s/step - loss: 1.3636 - categorical_accuracy: 0.4087 - val_loss: 1.3729 - val_categorical_accuracy: 0.4200\n",
      "\n",
      "Epoch 00016: saving model to Cnv3d-(Model 3)_20_100_100_64_50_2021-10-1605_35_54.630108/model-00016-1.36358-0.40875-1.37286-0.42000.h5\n",
      "Epoch 17/50\n",
      "11/11 [==============================] - 189s 19s/step - loss: 1.3488 - categorical_accuracy: 0.3846 - val_loss: 1.2408 - val_categorical_accuracy: 0.4900\n",
      "\n",
      "Epoch 00017: saving model to Cnv3d-(Model 3)_20_100_100_64_50_2021-10-1605_35_54.630108/model-00017-1.34882-0.38462-1.24075-0.49000.h5\n",
      "Epoch 18/50\n",
      "11/11 [==============================] - 182s 18s/step - loss: 1.3231 - categorical_accuracy: 0.4223 - val_loss: 1.1303 - val_categorical_accuracy: 0.5200\n",
      "\n",
      "Epoch 00018: saving model to Cnv3d-(Model 3)_20_100_100_64_50_2021-10-1605_35_54.630108/model-00018-1.32308-0.42232-1.13030-0.52000.h5\n",
      "Epoch 19/50\n",
      "11/11 [==============================] - 188s 19s/step - loss: 1.3337 - categorical_accuracy: 0.4208 - val_loss: 1.2687 - val_categorical_accuracy: 0.5100\n",
      "\n",
      "Epoch 00019: saving model to Cnv3d-(Model 3)_20_100_100_64_50_2021-10-1605_35_54.630108/model-00019-1.33367-0.42081-1.26869-0.51000.h5\n",
      "Epoch 20/50\n",
      "11/11 [==============================] - 181s 18s/step - loss: 1.3082 - categorical_accuracy: 0.4359 - val_loss: 1.2437 - val_categorical_accuracy: 0.4600\n",
      "\n",
      "Epoch 00020: saving model to Cnv3d-(Model 3)_20_100_100_64_50_2021-10-1605_35_54.630108/model-00020-1.30818-0.43590-1.24373-0.46000.h5\n",
      "\n",
      "Epoch 00020: ReduceLROnPlateau reducing learning rate to 0.0002500000118743628.\n",
      "Epoch 21/50\n",
      "11/11 [==============================] - 188s 19s/step - loss: 1.2584 - categorical_accuracy: 0.4359 - val_loss: 1.2489 - val_categorical_accuracy: 0.5000\n",
      "\n",
      "Epoch 00021: saving model to Cnv3d-(Model 3)_20_100_100_64_50_2021-10-1605_35_54.630108/model-00021-1.25836-0.43590-1.24890-0.50000.h5\n",
      "Epoch 22/50\n",
      "11/11 [==============================] - 182s 18s/step - loss: 1.2557 - categorical_accuracy: 0.4540 - val_loss: 1.2997 - val_categorical_accuracy: 0.4400\n",
      "\n",
      "Epoch 00022: saving model to Cnv3d-(Model 3)_20_100_100_64_50_2021-10-1605_35_54.630108/model-00022-1.25569-0.45400-1.29970-0.44000.h5\n",
      "\n",
      "Epoch 00022: ReduceLROnPlateau reducing learning rate to 0.0001250000059371814.\n",
      "Epoch 23/50\n",
      "11/11 [==============================] - 191s 19s/step - loss: 1.2443 - categorical_accuracy: 0.4570 - val_loss: 1.2679 - val_categorical_accuracy: 0.4600\n",
      "\n",
      "Epoch 00023: saving model to Cnv3d-(Model 3)_20_100_100_64_50_2021-10-1605_35_54.630108/model-00023-1.24431-0.45701-1.26793-0.46000.h5\n",
      "Epoch 24/50\n",
      "11/11 [==============================] - 182s 18s/step - loss: 1.2577 - categorical_accuracy: 0.4495 - val_loss: 1.2737 - val_categorical_accuracy: 0.5000\n",
      "\n",
      "Epoch 00024: saving model to Cnv3d-(Model 3)_20_100_100_64_50_2021-10-1605_35_54.630108/model-00024-1.25766-0.44947-1.27366-0.50000.h5\n",
      "\n",
      "Epoch 00024: ReduceLROnPlateau reducing learning rate to 6.25000029685907e-05.\n",
      "Epoch 25/50\n",
      "11/11 [==============================] - 190s 19s/step - loss: 1.2646 - categorical_accuracy: 0.4344 - val_loss: 1.2874 - val_categorical_accuracy: 0.5500\n",
      "\n",
      "Epoch 00025: saving model to Cnv3d-(Model 3)_20_100_100_64_50_2021-10-1605_35_54.630108/model-00025-1.26463-0.43439-1.28741-0.55000.h5\n",
      "Epoch 26/50\n",
      "11/11 [==============================] - 181s 18s/step - loss: 1.2571 - categorical_accuracy: 0.4630 - val_loss: 1.2330 - val_categorical_accuracy: 0.5200\n",
      "\n",
      "Epoch 00026: saving model to Cnv3d-(Model 3)_20_100_100_64_50_2021-10-1605_35_54.630108/model-00026-1.25712-0.46305-1.23302-0.52000.h5\n",
      "\n",
      "Epoch 00026: ReduceLROnPlateau reducing learning rate to 3.125000148429535e-05.\n",
      "Epoch 27/50\n",
      "11/11 [==============================] - 186s 18s/step - loss: 1.2771 - categorical_accuracy: 0.4284 - val_loss: 1.3043 - val_categorical_accuracy: 0.5400\n",
      "\n",
      "Epoch 00027: saving model to Cnv3d-(Model 3)_20_100_100_64_50_2021-10-1605_35_54.630108/model-00027-1.27706-0.42836-1.30429-0.54000.h5\n",
      "Epoch 28/50\n",
      "11/11 [==============================] - 182s 18s/step - loss: 1.2616 - categorical_accuracy: 0.4449 - val_loss: 1.4490 - val_categorical_accuracy: 0.4600\n",
      "\n",
      "Epoch 00028: saving model to Cnv3d-(Model 3)_20_100_100_64_50_2021-10-1605_35_54.630108/model-00028-1.26156-0.44495-1.44904-0.46000.h5\n",
      "\n",
      "Epoch 00028: ReduceLROnPlateau reducing learning rate to 1.5625000742147677e-05.\n",
      "Epoch 29/50\n",
      "11/11 [==============================] - 188s 19s/step - loss: 1.2328 - categorical_accuracy: 0.4585 - val_loss: 1.3050 - val_categorical_accuracy: 0.5200\n",
      "\n",
      "Epoch 00029: saving model to Cnv3d-(Model 3)_20_100_100_64_50_2021-10-1605_35_54.630108/model-00029-1.23276-0.45852-1.30496-0.52000.h5\n",
      "Epoch 30/50\n",
      "11/11 [==============================] - 182s 18s/step - loss: 1.2631 - categorical_accuracy: 0.4449 - val_loss: 1.3056 - val_categorical_accuracy: 0.5000\n",
      "\n",
      "Epoch 00030: saving model to Cnv3d-(Model 3)_20_100_100_64_50_2021-10-1605_35_54.630108/model-00030-1.26313-0.44495-1.30559-0.50000.h5\n",
      "\n",
      "Epoch 00030: ReduceLROnPlateau reducing learning rate to 1e-05.\n",
      "Epoch 31/50\n",
      "11/11 [==============================] - 188s 19s/step - loss: 1.2731 - categorical_accuracy: 0.4495 - val_loss: 1.3120 - val_categorical_accuracy: 0.5300\n",
      "\n",
      "Epoch 00031: saving model to Cnv3d-(Model 3)_20_100_100_64_50_2021-10-1605_35_54.630108/model-00031-1.27314-0.44947-1.31201-0.53000.h5\n",
      "Epoch 32/50\n",
      "11/11 [==============================] - 181s 18s/step - loss: 1.2627 - categorical_accuracy: 0.4480 - val_loss: 1.2381 - val_categorical_accuracy: 0.5400\n",
      "\n",
      "Epoch 00032: saving model to Cnv3d-(Model 3)_20_100_100_64_50_2021-10-1605_35_54.630108/model-00032-1.26269-0.44796-1.23813-0.54000.h5\n",
      "Epoch 33/50\n",
      "11/11 [==============================] - 186s 18s/step - loss: 1.2820 - categorical_accuracy: 0.4314 - val_loss: 1.3120 - val_categorical_accuracy: 0.5200\n",
      "\n",
      "Epoch 00033: saving model to Cnv3d-(Model 3)_20_100_100_64_50_2021-10-1605_35_54.630108/model-00033-1.28200-0.43137-1.31200-0.52000.h5\n",
      "Epoch 34/50\n",
      "11/11 [==============================] - 180s 18s/step - loss: 1.2148 - categorical_accuracy: 0.4676 - val_loss: 1.1821 - val_categorical_accuracy: 0.5600\n",
      "\n",
      "Epoch 00034: saving model to Cnv3d-(Model 3)_20_100_100_64_50_2021-10-1605_35_54.630108/model-00034-1.21476-0.46757-1.18206-0.56000.h5\n",
      "Epoch 35/50\n",
      "11/11 [==============================] - 189s 19s/step - loss: 1.2444 - categorical_accuracy: 0.4661 - val_loss: 1.3156 - val_categorical_accuracy: 0.5300\n",
      "\n",
      "Epoch 00035: saving model to Cnv3d-(Model 3)_20_100_100_64_50_2021-10-1605_35_54.630108/model-00035-1.24436-0.46606-1.31564-0.53000.h5\n",
      "Epoch 36/50\n",
      "11/11 [==============================] - 183s 18s/step - loss: 1.2598 - categorical_accuracy: 0.4314 - val_loss: 1.2962 - val_categorical_accuracy: 0.5300\n",
      "\n",
      "Epoch 00036: saving model to Cnv3d-(Model 3)_20_100_100_64_50_2021-10-1605_35_54.630108/model-00036-1.25976-0.43137-1.29623-0.53000.h5\n",
      "Epoch 37/50\n",
      "11/11 [==============================] - 188s 19s/step - loss: 1.2158 - categorical_accuracy: 0.4842 - val_loss: 1.3180 - val_categorical_accuracy: 0.5400\n",
      "\n",
      "Epoch 00037: saving model to Cnv3d-(Model 3)_20_100_100_64_50_2021-10-1605_35_54.630108/model-00037-1.21580-0.48416-1.31801-0.54000.h5\n",
      "Epoch 38/50\n",
      "11/11 [==============================] - 179s 18s/step - loss: 1.2572 - categorical_accuracy: 0.4570 - val_loss: 1.4509 - val_categorical_accuracy: 0.5500\n",
      "\n",
      "Epoch 00038: saving model to Cnv3d-(Model 3)_20_100_100_64_50_2021-10-1605_35_54.630108/model-00038-1.25724-0.45701-1.45087-0.55000.h5\n",
      "Epoch 39/50\n",
      "11/11 [==============================] - 190s 19s/step - loss: 1.2362 - categorical_accuracy: 0.4555 - val_loss: 1.3225 - val_categorical_accuracy: 0.5300\n",
      "\n",
      "Epoch 00039: saving model to Cnv3d-(Model 3)_20_100_100_64_50_2021-10-1605_35_54.630108/model-00039-1.23620-0.45551-1.32252-0.53000.h5\n",
      "Epoch 40/50\n",
      "11/11 [==============================] - 183s 18s/step - loss: 1.2335 - categorical_accuracy: 0.4646 - val_loss: 1.3337 - val_categorical_accuracy: 0.5100\n",
      "\n",
      "Epoch 00040: saving model to Cnv3d-(Model 3)_20_100_100_64_50_2021-10-1605_35_54.630108/model-00040-1.23351-0.46456-1.33369-0.51000.h5\n",
      "Epoch 41/50\n",
      "11/11 [==============================] - 191s 19s/step - loss: 1.2321 - categorical_accuracy: 0.4525 - val_loss: 1.3239 - val_categorical_accuracy: 0.5200\n",
      "\n",
      "Epoch 00041: saving model to Cnv3d-(Model 3)_20_100_100_64_50_2021-10-1605_35_54.630108/model-00041-1.23208-0.45249-1.32394-0.52000.h5\n",
      "Epoch 42/50\n",
      "11/11 [==============================] - 184s 18s/step - loss: 1.2578 - categorical_accuracy: 0.4314 - val_loss: 1.3075 - val_categorical_accuracy: 0.5200\n",
      "\n",
      "Epoch 00042: saving model to Cnv3d-(Model 3)_20_100_100_64_50_2021-10-1605_35_54.630108/model-00042-1.25784-0.43137-1.30749-0.52000.h5\n",
      "Epoch 43/50\n",
      "11/11 [==============================] - 188s 19s/step - loss: 1.2957 - categorical_accuracy: 0.4284 - val_loss: 1.3257 - val_categorical_accuracy: 0.5200\n",
      "\n",
      "Epoch 00043: saving model to Cnv3d-(Model 3)_20_100_100_64_50_2021-10-1605_35_54.630108/model-00043-1.29568-0.42836-1.32565-0.52000.h5\n",
      "Epoch 44/50\n",
      "11/11 [==============================] - 178s 18s/step - loss: 1.2410 - categorical_accuracy: 0.4706 - val_loss: 1.2849 - val_categorical_accuracy: 0.5200\n",
      "\n",
      "Epoch 00044: saving model to Cnv3d-(Model 3)_20_100_100_64_50_2021-10-1605_35_54.630108/model-00044-1.24100-0.47059-1.28485-0.52000.h5\n",
      "Epoch 45/50\n",
      "11/11 [==============================] - 191s 19s/step - loss: 1.2255 - categorical_accuracy: 0.4751 - val_loss: 1.3172 - val_categorical_accuracy: 0.5200\n",
      "\n",
      "Epoch 00045: saving model to Cnv3d-(Model 3)_20_100_100_64_50_2021-10-1605_35_54.630108/model-00045-1.22554-0.47511-1.31719-0.52000.h5\n",
      "Epoch 46/50\n",
      "11/11 [==============================] - 181s 18s/step - loss: 1.2366 - categorical_accuracy: 0.4706 - val_loss: 1.3342 - val_categorical_accuracy: 0.5200\n",
      "\n",
      "Epoch 00046: saving model to Cnv3d-(Model 3)_20_100_100_64_50_2021-10-1605_35_54.630108/model-00046-1.23662-0.47059-1.33421-0.52000.h5\n",
      "Epoch 47/50\n",
      "11/11 [==============================] - 188s 19s/step - loss: 1.2394 - categorical_accuracy: 0.4600 - val_loss: 1.3224 - val_categorical_accuracy: 0.5100\n",
      "\n",
      "Epoch 00047: saving model to Cnv3d-(Model 3)_20_100_100_64_50_2021-10-1605_35_54.630108/model-00047-1.23941-0.46003-1.32243-0.51000.h5\n",
      "Epoch 48/50\n",
      "11/11 [==============================] - 178s 18s/step - loss: 1.2253 - categorical_accuracy: 0.4585 - val_loss: 1.3188 - val_categorical_accuracy: 0.5200\n",
      "\n",
      "Epoch 00048: saving model to Cnv3d-(Model 3)_20_100_100_64_50_2021-10-1605_35_54.630108/model-00048-1.22528-0.45852-1.31881-0.52000.h5\n",
      "Epoch 49/50\n",
      "11/11 [==============================] - 189s 19s/step - loss: 1.2718 - categorical_accuracy: 0.4434 - val_loss: 1.3242 - val_categorical_accuracy: 0.5200\n",
      "\n",
      "Epoch 00049: saving model to Cnv3d-(Model 3)_20_100_100_64_50_2021-10-1605_35_54.630108/model-00049-1.27183-0.44344-1.32423-0.52000.h5\n",
      "Epoch 50/50\n",
      "11/11 [==============================] - 179s 18s/step - loss: 1.2408 - categorical_accuracy: 0.4570 - val_loss: 1.3303 - val_categorical_accuracy: 0.5000\n",
      "\n",
      "Epoch 00050: saving model to Cnv3d-(Model 3)_20_100_100_64_50_2021-10-1605_35_54.630108/model-00050-1.24083-0.45701-1.33029-0.50000.h5\n"
     ]
    },
    {
     "data": {
      "image/png": "[encoded data removed]",
      "text/plain": [
       "<Figure size 1080x288 with 2 Axes>"
      ]
     },
     "metadata": {
      "needs_background": "light"
     },
     "output_type": "display_data"
    },
    {
     "name": "stdout",
     "output_type": "stream",
     "text": [
      "Max. Training Accuracy 0.4841628968715668\n",
      "Max. Validaiton Accuracy 0.5600000023841858\n"
     ]
    }
   ],
   "source": [
    "from keras.models import Sequential, Model\n",
    "from keras.layers import Dense, GRU, Flatten, TimeDistributed, Flatten, BatchNormalization, Activation,Dropout\n",
    "from keras.layers.convolutional import Conv3D, MaxPooling3D\n",
    "from keras.callbacks import ModelCheckpoint, ReduceLROnPlateau\n",
    "from tensorflow.keras import optimizers\n",
    "\n",
    "#write your model here\n",
    "model = Sequential()\n",
    "model.add(Conv3D(16, (2,2,2), strides=(1,1,1), padding='same', input_shape=(x,y,z,3)))\n",
    "model.add(BatchNormalization())\n",
    "model.add(Activation('relu'))\n",
    "model.add(MaxPooling3D(pool_size=(2,2,1), strides=(2,2,1)))\n",
    "\n",
    "model.add(Conv3D(32, (2,2,2), strides=(1,1,1), padding='same'))\n",
    "model.add(BatchNormalization())\n",
    "model.add(Dropout(0.25))\n",
    "model.add(Activation('relu'))\n",
    "model.add(MaxPooling3D(pool_size=(2,2,1), strides=(2,2,1)))\n",
    "\n",
    "\n",
    "model.add(Conv3D(64, (2,2,2), strides=(1,1,1), padding='same'))\n",
    "model.add(BatchNormalization())\n",
    "model.add(Activation('relu'))\n",
    "model.add(MaxPooling3D(pool_size=(2,2,1), strides=(2,2,1)))\n",
    "model.add(Dropout(0.25))\n",
    "\n",
    "\n",
    "model.add(Conv3D(128, (2,2,2), strides=(1,1,1), padding='same'))\n",
    "model.add(BatchNormalization())\n",
    "model.add(Activation('relu'))\n",
    "model.add(MaxPooling3D(pool_size=(2,2,1), strides=(2,2,1)))\n",
    "\n",
    "model.add(Flatten())\n",
    "model.add(Dropout(0.5))\n",
    "model.add(Dense(256, activation='relu'))\n",
    "model.add(Dropout(0.5))\n",
    "model.add(Dense(5, activation='softmax'))\n",
    "\n",
    "\n",
    "#Compliation\n",
    "\n",
    "adam = optimizers.Adam()\n",
    "model.compile(optimizer=adam, loss='categorical_crossentropy', metrics=['categorical_accuracy'])\n",
    "print (model.summary())\n",
    "\n",
    "\n",
    "#Genrator Creation \n",
    "\n",
    "train_generator = generator(train_path, train_doc, batch_size)\n",
    "val_generator = generator(val_path, val_doc, batch_size)\n",
    "\n",
    "\n",
    "# Callback Document Saving \".h5\"\n",
    "\n",
    "model_name = 'Cnv3d-(Model 3)' + '_' + '20_100_100_64_50' +'_'+ str(curr_dt_time).replace(' ','').replace(':','_')+'/'\n",
    "    \n",
    "if not os.path.exists(model_name):\n",
    "    os.mkdir(model_name)\n",
    "        \n",
    "filepath = model_name + 'model-{epoch:05d}-{loss:.5f}-{categorical_accuracy:.5f}-{val_loss:.5f}-{val_categorical_accuracy:.5f}.h5'\n",
    "\n",
    "checkpoint = ModelCheckpoint(filepath, monitor='val_loss', verbose=1, save_best_only=False, save_weights_only=False, mode='auto', period=1)\n",
    "\n",
    "LR = ReduceLROnPlateau(monitor='val_loss', factor=0.5, patience=2, verbose=1, mode='min', epsilon=0.0001, cooldown=0, min_lr=0.00001)\n",
    "callbacks_list = [checkpoint, LR]\n",
    "\n",
    "\n",
    "\n",
    "# The steps_per_epoch and validation_steps are used by fit_generator to decide the number of next() calls it need to make.\n",
    "\n",
    "if (num_train_sequences%batch_size) == 0:\n",
    "    steps_per_epoch = int(num_train_sequences/batch_size)\n",
    "else:\n",
    "    steps_per_epoch = (num_train_sequences//batch_size) + 1\n",
    "\n",
    "if (num_val_sequences%batch_size) == 0:\n",
    "    validation_steps = int(num_val_sequences/batch_size)\n",
    "else:\n",
    "    validation_steps = (num_val_sequences//batch_size) + 1\n",
    "    \n",
    "    \n",
    "    \n",
    "# Let us now fit the model. This will start training the model and with the help of the checkpoints, you'll be able to save the model at the end of each epoch.'''\n",
    "\n",
    "\n",
    "model1=model.fit(train_generator, steps_per_epoch=steps_per_epoch, epochs=num_epochs, verbose=1, \n",
    "                    callbacks=callbacks_list, validation_data=val_generator, \n",
    "                    validation_steps=validation_steps, class_weight=None, workers=1, initial_epoch=0)\n",
    "\n",
    "plotModelHistory(model1)"
   ]
  },
  {
   "cell_type": "markdown",
   "metadata": {
    "id": "JodxHvrNj5vR"
   },
   "source": [
    "# Conv2D  + RNN"
   ]
  },
  {
   "cell_type": "markdown",
   "metadata": {
    "id": "kpQZNXNGj5vS"
   },
   "source": [
    "## Generator\n",
    "This is one of the most important part of the code. The overall structure of the generator has been given. In the generator, you are going to preprocess the images as you have images of 2 different dimensions as well as create a batch of video frames. You have to experiment with `img_idx`, `y`,`z` and normalization such that you get high accuracy."
   ]
  },
  {
   "cell_type": "code",
   "execution_count": null,
   "metadata": {
    "id": "fj0Y5QRyj5vT"
   },
   "outputs": [],
   "source": [
    "def generator(source_path, folder_list, batch_size):\n",
    "    print( 'Source path = ', source_path, '; batch size =', batch_size)\n",
    "    img_idx = [0,2,4,6,8,10,12,14,16,18,20,22,24,26,28] #create a list of image numbers you want to use for a particular video\n",
    "    while True:\n",
    "        t = np.random.permutation(folder_list)\n",
    "        num_batches = int(len(t)/batch_size) # calculate the number of batches\n",
    "        for batch in range(num_batches): # we iterate over the number of batches\n",
    "            batch_data = np.zeros((batch_size,x,y,z,3)) # x is the number of images you use for each video, (y,z) is the final size of the input images and 3 is the number of channels RGB\n",
    "            batch_labels = np.zeros((batch_size,5)) # batch_labels is the one hot representation of the output\n",
    "            for folder in range(batch_size): # iterate over the batch_size\n",
    "                imgs = os.listdir(source_path+'/'+ t[folder + (batch*batch_size)].split(';')[0]) # read all the images in the folder\n",
    "                for idx,item in enumerate(img_idx): #  Iterate iver the frames/images of a folder to read them in\n",
    "                    image = imread(source_path+'/'+ t[folder + (batch*batch_size)].strip().split(';')[0]+'/'+imgs[item]).astype(np.float32)\n",
    "                    \n",
    "                    #crop the images and resize them. Note that the images are of 2 different shape \n",
    "                    #and the conv3D will throw error if the inputs in a batch have different shapes\n",
    "                    \n",
    "                    if image.shape[1] == 160:\n",
    "                        image = image[:,20:140,:].astype(np.float32)\n",
    "                    else:\n",
    "                        image = resize(image,(y,z)).astype(np.float32)\n",
    "                    \n",
    "                    batch_data[folder,idx,:,:,0] = image[:,:,0] - 104\n",
    "                    batch_data[folder,idx,:,:,1] = image[:,:,1] - 117\n",
    "                    batch_data[folder,idx,:,:,2] = image[:,:,2] - 123\n",
    "                    \n",
    "                batch_labels[folder, int(t[folder + (batch*batch_size)].strip().split(';')[2])] = 1\n",
    "            yield batch_data, batch_labels #you yield the batch_data and the batch_labels, remember what does yield do\n",
    "            \n",
    "        # write the code for the remaining data points which are left after full batches\n",
    "\n",
    "        if (len(t)%batch_size) != 0:\n",
    "            batch_data = np.zeros((len(t)%batch_size,x,y,z,3))\n",
    "            batch_labels = np.zeros((len(t)%batch_size,5))\n",
    "            for folder in range(len(t)%batch_size):\n",
    "                imgs = os.listdir(source_path+'/'+ t[folder + (num_batches*batch_size)].split(';')[0])\n",
    "                for idx,item in enumerate(img_idx):\n",
    "                    image = imread(source_path+'/'+ t[folder + (num_batches*batch_size)].strip().split(';')[0]+'/'+imgs[item]).astype(np.float32)\n",
    "                    if image.shape[1] == 160:\n",
    "                        image = image[:,20:140,:].astype(np.float32)\n",
    "                    else:\n",
    "                        image = resize(image,(y,z)).astype(np.float32)\n",
    "\n",
    "                    batch_data[folder,idx,:,:,0] = image[:,:,0] - 104\n",
    "                    batch_data[folder,idx,:,:,1] = image[:,:,1] - 117\n",
    "                    batch_data[folder,idx,:,:,2] = image[:,:,2] - 123\n",
    "\n",
    "                batch_labels[folder, int(t[folder + (num_batches*batch_size)].strip().split(';')[2])] = 1\n",
    "            yield batch_data, batch_labels"
   ]
  },
  {
   "cell_type": "markdown",
   "metadata": {
    "id": "--CospMnj5vU"
   },
   "source": [
    "##  Cnv2d_RNN-(Model 1)"
   ]
  },
  {
   "cell_type": "markdown",
   "metadata": {
    "id": "ln2uufEuj5vV"
   },
   "source": [
    ">> #### 15 Frames | Image_size= 120 * 120 | Batch Size = 32 | Epoch = 30"
   ]
  },
  {
   "cell_type": "code",
   "execution_count": null,
   "metadata": {
    "id": "GmX71_9hj5vV"
   },
   "outputs": [],
   "source": [
    "batch_size =32     #experiment with the batch size 32\n",
    "x=15               #experiment with the Frame size  15\n",
    "y=120             #experiment with the image Height 120\n",
    "z=120              #experiment with the image width  120\n",
    "num_epochs = 30   #experiment with the Epoch 30"
   ]
  },
  {
   "cell_type": "code",
   "execution_count": null,
   "metadata": {
    "colab": {
     "base_uri": "https://localhost:8080/",
     "height": 1000
    },
    "id": "_vcma5Lzj5vW",
    "outputId": "a010b476-6de8-4af0-cbac-9a14b462e5bc",
    "scrolled": false
   },
   "outputs": [
    {
     "name": "stdout",
     "output_type": "stream",
     "text": [
      "WARNING:tensorflow:`period` argument is deprecated. Please use `save_freq` to specify the frequency in number of batches seen.\n",
      "WARNING:tensorflow:`epsilon` argument is deprecated and will be removed, use `min_delta` instead.\n",
      "Source path =  /content/drive/MyDrive/Project_data/Project_data/train ; batch size = 32\n",
      "Epoch 1/30\n",
      "21/21 [==============================] - ETA: 0s - loss: 1.5623 - categorical_accuracy: 0.2956Source path =  /content/drive/MyDrive/Project_data/Project_data/val ; batch size = 32\n",
      "21/21 [==============================] - 121s 6s/step - loss: 1.5623 - categorical_accuracy: 0.2956 - val_loss: 1.6902 - val_categorical_accuracy: 0.1800\n",
      "\n",
      "Epoch 00001: saving model to Cnv2d+RNN-(Model 1)_(15,120,120,32)_2021-10-1605_35_54.630108/model-00001-1.56228-0.29563-1.69016-0.18000.h5\n",
      "Epoch 2/30\n",
      "21/21 [==============================] - 115s 6s/step - loss: 1.4460 - categorical_accuracy: 0.3756 - val_loss: 1.7993 - val_categorical_accuracy: 0.1800\n",
      "\n",
      "Epoch 00002: saving model to Cnv2d+RNN-(Model 1)_(15,120,120,32)_2021-10-1605_35_54.630108/model-00002-1.44604-0.37557-1.79929-0.18000.h5\n",
      "Epoch 3/30\n",
      "21/21 [==============================] - 112s 6s/step - loss: 1.3730 - categorical_accuracy: 0.4238 - val_loss: 1.8004 - val_categorical_accuracy: 0.2200\n",
      "\n",
      "Epoch 00003: saving model to Cnv2d+RNN-(Model 1)_(15,120,120,32)_2021-10-1605_35_54.630108/model-00003-1.37296-0.42383-1.80043-0.22000.h5\n",
      "\n",
      "Epoch 00003: ReduceLROnPlateau reducing learning rate to 0.0005000000237487257.\n",
      "Epoch 4/30\n",
      "21/21 [==============================] - 110s 5s/step - loss: 1.2836 - categorical_accuracy: 0.4676 - val_loss: 1.5452 - val_categorical_accuracy: 0.3500\n",
      "\n",
      "Epoch 00004: saving model to Cnv2d+RNN-(Model 1)_(15,120,120,32)_2021-10-1605_35_54.630108/model-00004-1.28361-0.46757-1.54524-0.35000.h5\n",
      "Epoch 5/30\n",
      "21/21 [==============================] - 128s 6s/step - loss: 1.1967 - categorical_accuracy: 0.5098 - val_loss: 1.5260 - val_categorical_accuracy: 0.3800\n",
      "\n",
      "Epoch 00005: saving model to Cnv2d+RNN-(Model 1)_(15,120,120,32)_2021-10-1605_35_54.630108/model-00005-1.19675-0.50980-1.52596-0.38000.h5\n",
      "Epoch 6/30\n",
      "21/21 [==============================] - 115s 6s/step - loss: 1.1671 - categorical_accuracy: 0.5505 - val_loss: 1.5085 - val_categorical_accuracy: 0.4000\n",
      "\n",
      "Epoch 00006: saving model to Cnv2d+RNN-(Model 1)_(15,120,120,32)_2021-10-1605_35_54.630108/model-00006-1.16714-0.55053-1.50846-0.40000.h5\n",
      "Epoch 7/30\n",
      "21/21 [==============================] - 111s 6s/step - loss: 1.0870 - categorical_accuracy: 0.5792 - val_loss: 1.4622 - val_categorical_accuracy: 0.3700\n",
      "\n",
      "Epoch 00007: saving model to Cnv2d+RNN-(Model 1)_(15,120,120,32)_2021-10-1605_35_54.630108/model-00007-1.08703-0.57919-1.46216-0.37000.h5\n",
      "Epoch 8/30\n",
      "21/21 [==============================] - 108s 5s/step - loss: 0.9942 - categorical_accuracy: 0.6199 - val_loss: 1.4826 - val_categorical_accuracy: 0.4200\n",
      "\n",
      "Epoch 00008: saving model to Cnv2d+RNN-(Model 1)_(15,120,120,32)_2021-10-1605_35_54.630108/model-00008-0.99422-0.61991-1.48261-0.42000.h5\n",
      "Epoch 9/30\n",
      "21/21 [==============================] - 115s 6s/step - loss: 0.9084 - categorical_accuracy: 0.6772 - val_loss: 1.3415 - val_categorical_accuracy: 0.5000\n",
      "\n",
      "Epoch 00009: saving model to Cnv2d+RNN-(Model 1)_(15,120,120,32)_2021-10-1605_35_54.630108/model-00009-0.90844-0.67722-1.34146-0.50000.h5\n",
      "Epoch 10/30\n",
      "21/21 [==============================] - 112s 6s/step - loss: 0.7899 - categorical_accuracy: 0.7391 - val_loss: 1.4827 - val_categorical_accuracy: 0.4600\n",
      "\n",
      "Epoch 00010: saving model to Cnv2d+RNN-(Model 1)_(15,120,120,32)_2021-10-1605_35_54.630108/model-00010-0.78993-0.73906-1.48274-0.46000.h5\n",
      "Epoch 11/30\n",
      "21/21 [==============================] - 129s 6s/step - loss: 0.7482 - categorical_accuracy: 0.7360 - val_loss: 1.5072 - val_categorical_accuracy: 0.4700\n",
      "\n",
      "Epoch 00011: saving model to Cnv2d+RNN-(Model 1)_(15,120,120,32)_2021-10-1605_35_54.630108/model-00011-0.74822-0.73605-1.50716-0.47000.h5\n",
      "\n",
      "Epoch 00011: ReduceLROnPlateau reducing learning rate to 0.0002500000118743628.\n",
      "Epoch 12/30\n",
      "21/21 [==============================] - 110s 5s/step - loss: 0.6607 - categorical_accuracy: 0.7903 - val_loss: 1.3958 - val_categorical_accuracy: 0.4900\n",
      "\n",
      "Epoch 00012: saving model to Cnv2d+RNN-(Model 1)_(15,120,120,32)_2021-10-1605_35_54.630108/model-00012-0.66073-0.79035-1.39583-0.49000.h5\n",
      "Epoch 13/30\n",
      "21/21 [==============================] - 115s 6s/step - loss: 0.5639 - categorical_accuracy: 0.8416 - val_loss: 1.4087 - val_categorical_accuracy: 0.4800\n",
      "\n",
      "Epoch 00013: saving model to Cnv2d+RNN-(Model 1)_(15,120,120,32)_2021-10-1605_35_54.630108/model-00013-0.56387-0.84163-1.40873-0.48000.h5\n",
      "\n",
      "Epoch 00013: ReduceLROnPlateau reducing learning rate to 0.0001250000059371814.\n",
      "Epoch 14/30\n",
      "21/21 [==============================] - 118s 6s/step - loss: 0.4600 - categorical_accuracy: 0.8718 - val_loss: 1.3746 - val_categorical_accuracy: 0.5100\n",
      "\n",
      "Epoch 00014: saving model to Cnv2d+RNN-(Model 1)_(15,120,120,32)_2021-10-1605_35_54.630108/model-00014-0.46001-0.87179-1.37463-0.51000.h5\n",
      "Epoch 15/30\n",
      "21/21 [==============================] - 113s 6s/step - loss: 0.4133 - categorical_accuracy: 0.9020 - val_loss: 1.3245 - val_categorical_accuracy: 0.5200\n",
      "\n",
      "Epoch 00015: saving model to Cnv2d+RNN-(Model 1)_(15,120,120,32)_2021-10-1605_35_54.630108/model-00015-0.41333-0.90196-1.32447-0.52000.h5\n",
      "Epoch 16/30\n",
      "21/21 [==============================] - 109s 5s/step - loss: 0.3486 - categorical_accuracy: 0.9246 - val_loss: 1.2806 - val_categorical_accuracy: 0.4900\n",
      "\n",
      "Epoch 00016: saving model to Cnv2d+RNN-(Model 1)_(15,120,120,32)_2021-10-1605_35_54.630108/model-00016-0.34863-0.92459-1.28062-0.49000.h5\n",
      "Epoch 17/30\n",
      "21/21 [==============================] - 114s 6s/step - loss: 0.3158 - categorical_accuracy: 0.9412 - val_loss: 1.4265 - val_categorical_accuracy: 0.4700\n",
      "\n",
      "Epoch 00017: saving model to Cnv2d+RNN-(Model 1)_(15,120,120,32)_2021-10-1605_35_54.630108/model-00017-0.31577-0.94118-1.42651-0.47000.h5\n",
      "Epoch 18/30\n",
      "21/21 [==============================] - 112s 6s/step - loss: 0.2930 - categorical_accuracy: 0.9397 - val_loss: 1.3764 - val_categorical_accuracy: 0.5300\n",
      "\n",
      "Epoch 00018: saving model to Cnv2d+RNN-(Model 1)_(15,120,120,32)_2021-10-1605_35_54.630108/model-00018-0.29298-0.93967-1.37645-0.53000.h5\n",
      "\n",
      "Epoch 00018: ReduceLROnPlateau reducing learning rate to 6.25000029685907e-05.\n",
      "Epoch 19/30\n",
      "21/21 [==============================] - 114s 6s/step - loss: 0.2794 - categorical_accuracy: 0.9472 - val_loss: 1.6497 - val_categorical_accuracy: 0.4300\n",
      "\n",
      "Epoch 00019: saving model to Cnv2d+RNN-(Model 1)_(15,120,120,32)_2021-10-1605_35_54.630108/model-00019-0.27938-0.94721-1.64970-0.43000.h5\n",
      "Epoch 20/30\n",
      "21/21 [==============================] - 111s 6s/step - loss: 0.2447 - categorical_accuracy: 0.9638 - val_loss: 1.4357 - val_categorical_accuracy: 0.5000\n",
      "\n",
      "Epoch 00020: saving model to Cnv2d+RNN-(Model 1)_(15,120,120,32)_2021-10-1605_35_54.630108/model-00020-0.24467-0.96380-1.43572-0.50000.h5\n",
      "\n",
      "Epoch 00020: ReduceLROnPlateau reducing learning rate to 3.125000148429535e-05.\n",
      "Epoch 21/30\n",
      "21/21 [==============================] - 129s 6s/step - loss: 0.2336 - categorical_accuracy: 0.9608 - val_loss: 1.5080 - val_categorical_accuracy: 0.4700\n",
      "\n",
      "Epoch 00021: saving model to Cnv2d+RNN-(Model 1)_(15,120,120,32)_2021-10-1605_35_54.630108/model-00021-0.23364-0.96078-1.50804-0.47000.h5\n",
      "Epoch 22/30\n",
      "21/21 [==============================] - 112s 6s/step - loss: 0.2349 - categorical_accuracy: 0.9593 - val_loss: 1.5364 - val_categorical_accuracy: 0.4400\n",
      "\n",
      "Epoch 00022: saving model to Cnv2d+RNN-(Model 1)_(15,120,120,32)_2021-10-1605_35_54.630108/model-00022-0.23486-0.95928-1.53643-0.44000.h5\n",
      "\n",
      "Epoch 00022: ReduceLROnPlateau reducing learning rate to 1.5625000742147677e-05.\n",
      "Epoch 23/30\n",
      "21/21 [==============================] - 111s 6s/step - loss: 0.2263 - categorical_accuracy: 0.9623 - val_loss: 1.6889 - val_categorical_accuracy: 0.4300\n",
      "\n",
      "Epoch 00023: saving model to Cnv2d+RNN-(Model 1)_(15,120,120,32)_2021-10-1605_35_54.630108/model-00023-0.22628-0.96229-1.68889-0.43000.h5\n",
      "Epoch 24/30\n",
      "21/21 [==============================] - 108s 5s/step - loss: 0.2304 - categorical_accuracy: 0.9593 - val_loss: 1.5733 - val_categorical_accuracy: 0.4500\n",
      "\n",
      "Epoch 00024: saving model to Cnv2d+RNN-(Model 1)_(15,120,120,32)_2021-10-1605_35_54.630108/model-00024-0.23044-0.95928-1.57333-0.45000.h5\n",
      "\n",
      "Epoch 00024: ReduceLROnPlateau reducing learning rate to 1e-05.\n",
      "Epoch 25/30\n",
      "21/21 [==============================] - 112s 6s/step - loss: 0.2204 - categorical_accuracy: 0.9638 - val_loss: 1.5527 - val_categorical_accuracy: 0.4900\n",
      "\n",
      "Epoch 00025: saving model to Cnv2d+RNN-(Model 1)_(15,120,120,32)_2021-10-1605_35_54.630108/model-00025-0.22041-0.96380-1.55274-0.49000.h5\n",
      "Epoch 26/30\n",
      "21/21 [==============================] - 111s 6s/step - loss: 0.2066 - categorical_accuracy: 0.9774 - val_loss: 1.3779 - val_categorical_accuracy: 0.5400\n",
      "\n",
      "Epoch 00026: saving model to Cnv2d+RNN-(Model 1)_(15,120,120,32)_2021-10-1605_35_54.630108/model-00026-0.20661-0.97738-1.37794-0.54000.h5\n",
      "Epoch 27/30\n",
      "21/21 [==============================] - 112s 6s/step - loss: 0.2110 - categorical_accuracy: 0.9713 - val_loss: 1.8706 - val_categorical_accuracy: 0.4300\n",
      "\n",
      "Epoch 00027: saving model to Cnv2d+RNN-(Model 1)_(15,120,120,32)_2021-10-1605_35_54.630108/model-00027-0.21103-0.97134-1.87056-0.43000.h5\n",
      "Epoch 28/30\n",
      "21/21 [==============================] - 110s 5s/step - loss: 0.2177 - categorical_accuracy: 0.9729 - val_loss: 1.5762 - val_categorical_accuracy: 0.5200\n",
      "\n",
      "Epoch 00028: saving model to Cnv2d+RNN-(Model 1)_(15,120,120,32)_2021-10-1605_35_54.630108/model-00028-0.21771-0.97285-1.57624-0.52000.h5\n",
      "Epoch 29/30\n",
      "21/21 [==============================] - 110s 5s/step - loss: 0.1956 - categorical_accuracy: 0.9713 - val_loss: 1.5835 - val_categorical_accuracy: 0.5100\n",
      "\n",
      "Epoch 00029: saving model to Cnv2d+RNN-(Model 1)_(15,120,120,32)_2021-10-1605_35_54.630108/model-00029-0.19561-0.97134-1.58350-0.51000.h5\n",
      "Epoch 30/30\n",
      "21/21 [==============================] - 114s 6s/step - loss: 0.1958 - categorical_accuracy: 0.9759 - val_loss: 1.5043 - val_categorical_accuracy: 0.5300\n",
      "\n",
      "Epoch 00030: saving model to Cnv2d+RNN-(Model 1)_(15,120,120,32)_2021-10-1605_35_54.630108/model-00030-0.19583-0.97587-1.50434-0.53000.h5\n"
     ]
    },
    {
     "data": {
      "image/png": "[encoded data removed]",
      "text/plain": [
       "<Figure size 1080x288 with 2 Axes>"
      ]
     },
     "metadata": {
      "needs_background": "light"
     },
     "output_type": "display_data"
    },
    {
     "name": "stdout",
     "output_type": "stream",
     "text": [
      "Max. Training Accuracy 0.9773755669593811\n",
      "Max. Validaiton Accuracy 0.5400000214576721\n"
     ]
    }
   ],
   "source": [
    "from keras.models import Sequential, Model\n",
    "from keras.layers import Dense, GRU, Flatten, TimeDistributed, Flatten, BatchNormalization, Activation,Dropout,LSTM\n",
    "from keras.layers.convolutional import Conv3D, MaxPooling3D,Conv2D,MaxPooling2D\n",
    "from keras.callbacks import ModelCheckpoint, ReduceLROnPlateau\n",
    "from tensorflow.keras import optimizers\n",
    "from keras.applications.vgg16 import VGG16\n",
    "\n",
    "        \n",
    "model = Sequential()\n",
    "model.add(TimeDistributed(Conv2D(16, make2dFilter(3), padding='same', activation='relu'), input_shape=(15,120,120,3))),\n",
    "model.add(TimeDistributed(BatchNormalization())),\n",
    "model.add(TimeDistributed(MaxPooling2D(make2dFilter(2)))),\n",
    "model.add(TimeDistributed(Flatten())),\n",
    "model.add(LSTM(32, return_sequences=True))\n",
    "model.add(LSTM(64))\n",
    "model.add(Dropout(0.5))\n",
    "model.add(Dense(8, activation='relu'))\n",
    "model.add(Dense(5, activation='softmax'))\n",
    "\n",
    "#Compliation\n",
    "adam= optimizers.Adam()\n",
    "model.compile(optimizer=adam, loss='categorical_crossentropy', metrics=['categorical_accuracy'])\n",
    "\n",
    "\n",
    "#Genrator Creation \n",
    "\n",
    "train_generator = generator(train_path, train_doc, batch_size)\n",
    "val_generator = generator(val_path, val_doc, batch_size)\n",
    "\n",
    "\n",
    "\n",
    "\n",
    "# Callback Document Saving \".h5\"\n",
    "\n",
    "model_name = 'Cnv2d+RNN-(Model 1)' + '_' + '(15,120,120,32,30)' +'_'+ str(curr_dt_time).replace(' ','').replace(':','_')+'/'\n",
    "    \n",
    "if not os.path.exists(model_name):\n",
    "    os.mkdir(model_name)\n",
    "        \n",
    "filepath = model_name + 'model-{epoch:05d}-{loss:.5f}-{categorical_accuracy:.5f}-{val_loss:.5f}-{val_categorical_accuracy:.5f}.h5'\n",
    "\n",
    "checkpoint = ModelCheckpoint(filepath, monitor='val_loss', verbose=1, save_best_only=False, save_weights_only=False, mode='auto', period=1)\n",
    "\n",
    "LR = ReduceLROnPlateau(monitor='val_loss', factor=0.5, patience=2, verbose=1, mode='min', epsilon=0.0001, cooldown=0, min_lr=0.00001)\n",
    "callbacks_list = [checkpoint, LR]\n",
    "\n",
    "\n",
    "\n",
    "\n",
    "\n",
    "# The steps_per_epoch and validation_steps are used by fit_generator to decide the number of next() calls it need to make.\n",
    "\n",
    "if (num_train_sequences%batch_size) == 0:\n",
    "    steps_per_epoch = int(num_train_sequences/batch_size)\n",
    "else:\n",
    "    steps_per_epoch = (num_train_sequences//batch_size) + 1\n",
    "\n",
    "if (num_val_sequences%batch_size) == 0:\n",
    "    validation_steps = int(num_val_sequences/batch_size)\n",
    "else:\n",
    "    validation_steps = (num_val_sequences//batch_size) + 1\n",
    "    \n",
    "\n",
    "    \n",
    "    \n",
    "\n",
    "    \n",
    "    \n",
    "# Let us now fit the model. This will start training the model and with the help of the checkpoints, you'll be able to save the model at the end of each epoch.'''\n",
    "\n",
    "\n",
    "model1=model.fit(train_generator, steps_per_epoch=steps_per_epoch, epochs=num_epochs, verbose=1, \n",
    "                    callbacks=callbacks_list, validation_data=val_generator, \n",
    "                    validation_steps=validation_steps, class_weight=None, workers=1, initial_epoch=0)\n",
    "\n",
    "plotModelHistory(model1)\n"
   ]
  },
  {
   "cell_type": "markdown",
   "metadata": {
    "id": "oHiDsBE4j5vX"
   },
   "source": [
    "##  Cnv2d_RNN-(Model 2)"
   ]
  },
  {
   "cell_type": "markdown",
   "metadata": {
    "id": "G_AL96gaj5vY"
   },
   "source": [
    ">> #### 20 Frames | Image_size= 120 * 120 | Batch Size = 32 | Epoch = 20 | Adding More Layers | Without Drop outs"
   ]
  },
  {
   "cell_type": "code",
   "execution_count": null,
   "metadata": {
    "id": "oOgSSzTIj5vY"
   },
   "outputs": [],
   "source": [
    "batch_size =32     #experiment with the batch size 32\n",
    "x=20               #experiment with the Frame size  20\n",
    "y=120             #experiment with the image Height 120\n",
    "z=120              #experiment with the image width  120\n",
    "num_epochs = 20   #experiment with the Epoch 20"
   ]
  },
  {
   "cell_type": "code",
   "execution_count": null,
   "metadata": {
    "colab": {
     "base_uri": "https://localhost:8080/",
     "height": 1000
    },
    "id": "65IwgpdFj5vZ",
    "outputId": "6b1af932-32f4-4fe3-e563-b1ad36f5f938",
    "scrolled": false
   },
   "outputs": [
    {
     "name": "stdout",
     "output_type": "stream",
     "text": [
      "Model: \"sequential_8\"\n",
      "_________________________________________________________________\n",
      "Layer (type)                 Output Shape              Param #   \n",
      "=================================================================\n",
      "time_distributed_4 (TimeDist (None, 20, 120, 120, 16)  448       \n",
      "_________________________________________________________________\n",
      "time_distributed_5 (TimeDist (None, 20, 120, 120, 16)  64        \n",
      "_________________________________________________________________\n",
      "time_distributed_6 (TimeDist (None, 20, 60, 60, 16)    0         \n",
      "_________________________________________________________________\n",
      "time_distributed_7 (TimeDist (None, 20, 60, 60, 32)    4640      \n",
      "_________________________________________________________________\n",
      "time_distributed_8 (TimeDist (None, 20, 60, 60, 32)    128       \n",
      "_________________________________________________________________\n",
      "time_distributed_9 (TimeDist (None, 20, 30, 30, 32)    0         \n",
      "_________________________________________________________________\n",
      "time_distributed_10 (TimeDis (None, 20, 30, 30, 64)    18496     \n",
      "_________________________________________________________________\n",
      "time_distributed_11 (TimeDis (None, 20, 30, 30, 64)    256       \n",
      "_________________________________________________________________\n",
      "time_distributed_12 (TimeDis (None, 20, 15, 15, 64)    0         \n",
      "_________________________________________________________________\n",
      "time_distributed_13 (TimeDis (None, 20, 14400)         0         \n",
      "_________________________________________________________________\n",
      "lstm_2 (LSTM)                (None, 20, 128)           7438848   \n",
      "_________________________________________________________________\n",
      "lstm_3 (LSTM)                (None, 256)               394240    \n",
      "_________________________________________________________________\n",
      "dense_16 (Dense)             (None, 8)                 2056      \n",
      "_________________________________________________________________\n",
      "dense_17 (Dense)             (None, 5)                 45        \n",
      "=================================================================\n",
      "Total params: 7,859,221\n",
      "Trainable params: 7,858,997\n",
      "Non-trainable params: 224\n",
      "_________________________________________________________________\n",
      "None\n",
      "WARNING:tensorflow:`period` argument is deprecated. Please use `save_freq` to specify the frequency in number of batches seen.\n",
      "WARNING:tensorflow:`epsilon` argument is deprecated and will be removed, use `min_delta` instead.\n",
      "Source path =  /content/drive/MyDrive/Project_data/Project_data/train ; batch size = 32\n",
      "Epoch 1/20\n",
      "21/21 [==============================] - ETA: 0s - loss: 1.5202 - categorical_accuracy: 0.2715Source path =  /content/drive/MyDrive/Project_data/Project_data/val ; batch size = 32\n",
      "21/21 [==============================] - 129s 6s/step - loss: 1.5202 - categorical_accuracy: 0.2715 - val_loss: 1.6101 - val_categorical_accuracy: 0.2200\n",
      "\n",
      "Epoch 00001: saving model to Cnv2d+RNN-(Model 2)_(20,120,120,32)_2021-10-1605_35_54.630108/model-00001-1.52022-0.27149-1.61012-0.22000.h5\n",
      "Epoch 2/20\n",
      "21/21 [==============================] - 124s 6s/step - loss: 1.4348 - categorical_accuracy: 0.3469 - val_loss: 1.6095 - val_categorical_accuracy: 0.2300\n",
      "\n",
      "Epoch 00002: saving model to Cnv2d+RNN-(Model 2)_(20,120,120,32)_2021-10-1605_35_54.630108/model-00002-1.43480-0.34691-1.60953-0.23000.h5\n",
      "Epoch 3/20\n",
      "21/21 [==============================] - 126s 6s/step - loss: 1.3815 - categorical_accuracy: 0.3876 - val_loss: 1.6082 - val_categorical_accuracy: 0.2100\n",
      "\n",
      "Epoch 00003: saving model to Cnv2d+RNN-(Model 2)_(20,120,120,32)_2021-10-1605_35_54.630108/model-00003-1.38153-0.38763-1.60824-0.21000.h5\n",
      "Epoch 4/20\n",
      "21/21 [==============================] - 118s 6s/step - loss: 1.3613 - categorical_accuracy: 0.3771 - val_loss: 1.6081 - val_categorical_accuracy: 0.2200\n",
      "\n",
      "Epoch 00004: saving model to Cnv2d+RNN-(Model 2)_(20,120,120,32)_2021-10-1605_35_54.630108/model-00004-1.36131-0.37707-1.60812-0.22000.h5\n",
      "Epoch 5/20\n",
      "21/21 [==============================] - 122s 6s/step - loss: 1.3570 - categorical_accuracy: 0.3952 - val_loss: 1.3859 - val_categorical_accuracy: 0.3700\n",
      "\n",
      "Epoch 00005: saving model to Cnv2d+RNN-(Model 2)_(20,120,120,32)_2021-10-1605_35_54.630108/model-00005-1.35695-0.39517-1.38587-0.37000.h5\n",
      "Epoch 6/20\n",
      "21/21 [==============================] - 116s 6s/step - loss: 1.2220 - categorical_accuracy: 0.3816 - val_loss: 1.7422 - val_categorical_accuracy: 0.3100\n",
      "\n",
      "Epoch 00006: saving model to Cnv2d+RNN-(Model 2)_(20,120,120,32)_2021-10-1605_35_54.630108/model-00006-1.22195-0.38160-1.74225-0.31000.h5\n",
      "Epoch 7/20\n",
      "21/21 [==============================] - 119s 6s/step - loss: 1.1525 - categorical_accuracy: 0.4072 - val_loss: 1.4379 - val_categorical_accuracy: 0.3800\n",
      "\n",
      "Epoch 00007: saving model to Cnv2d+RNN-(Model 2)_(20,120,120,32)_2021-10-1605_35_54.630108/model-00007-1.15249-0.40724-1.43785-0.38000.h5\n",
      "\n",
      "Epoch 00007: ReduceLROnPlateau reducing learning rate to 0.0005000000237487257.\n",
      "Epoch 8/20\n",
      "21/21 [==============================] - 116s 6s/step - loss: 1.1288 - categorical_accuracy: 0.5234 - val_loss: 1.4955 - val_categorical_accuracy: 0.4700\n",
      "\n",
      "Epoch 00008: saving model to Cnv2d+RNN-(Model 2)_(20,120,120,32)_2021-10-1605_35_54.630108/model-00008-1.12885-0.52338-1.49555-0.47000.h5\n",
      "Epoch 9/20\n",
      "21/21 [==============================] - 135s 7s/step - loss: 0.9268 - categorical_accuracy: 0.5882 - val_loss: 1.3558 - val_categorical_accuracy: 0.5400\n",
      "\n",
      "Epoch 00009: saving model to Cnv2d+RNN-(Model 2)_(20,120,120,32)_2021-10-1605_35_54.630108/model-00009-0.92676-0.58824-1.35580-0.54000.h5\n",
      "Epoch 10/20\n",
      "21/21 [==============================] - 117s 6s/step - loss: 0.8191 - categorical_accuracy: 0.6440 - val_loss: 1.3390 - val_categorical_accuracy: 0.5100\n",
      "\n",
      "Epoch 00010: saving model to Cnv2d+RNN-(Model 2)_(20,120,120,32)_2021-10-1605_35_54.630108/model-00010-0.81911-0.64404-1.33898-0.51000.h5\n",
      "Epoch 11/20\n",
      "21/21 [==============================] - 123s 6s/step - loss: 0.7388 - categorical_accuracy: 0.6742 - val_loss: 1.4356 - val_categorical_accuracy: 0.5200\n",
      "\n",
      "Epoch 00011: saving model to Cnv2d+RNN-(Model 2)_(20,120,120,32)_2021-10-1605_35_54.630108/model-00011-0.73876-0.67421-1.43560-0.52000.h5\n",
      "Epoch 12/20\n",
      "21/21 [==============================] - 115s 6s/step - loss: 0.7015 - categorical_accuracy: 0.6802 - val_loss: 1.4596 - val_categorical_accuracy: 0.5200\n",
      "\n",
      "Epoch 00012: saving model to Cnv2d+RNN-(Model 2)_(20,120,120,32)_2021-10-1605_35_54.630108/model-00012-0.70145-0.68024-1.45956-0.52000.h5\n",
      "\n",
      "Epoch 00012: ReduceLROnPlateau reducing learning rate to 0.0002500000118743628.\n",
      "Epoch 13/20\n",
      "21/21 [==============================] - 119s 6s/step - loss: 0.5646 - categorical_accuracy: 0.7421 - val_loss: 1.2103 - val_categorical_accuracy: 0.6000\n",
      "\n",
      "Epoch 00013: saving model to Cnv2d+RNN-(Model 2)_(20,120,120,32)_2021-10-1605_35_54.630108/model-00013-0.56459-0.74208-1.21034-0.60000.h5\n",
      "Epoch 14/20\n",
      "21/21 [==============================] - 133s 7s/step - loss: 0.4600 - categorical_accuracy: 0.8084 - val_loss: 1.2043 - val_categorical_accuracy: 0.5700\n",
      "\n",
      "Epoch 00014: saving model to Cnv2d+RNN-(Model 2)_(20,120,120,32)_2021-10-1605_35_54.630108/model-00014-0.46000-0.80845-1.20432-0.57000.h5\n",
      "Epoch 15/20\n",
      "21/21 [==============================] - 116s 6s/step - loss: 0.4224 - categorical_accuracy: 0.8145 - val_loss: 1.3086 - val_categorical_accuracy: 0.6300\n",
      "\n",
      "Epoch 00015: saving model to Cnv2d+RNN-(Model 2)_(20,120,120,32)_2021-10-1605_35_54.630108/model-00015-0.42237-0.81448-1.30863-0.63000.h5\n",
      "Epoch 16/20\n",
      "21/21 [==============================] - 111s 6s/step - loss: 0.3787 - categorical_accuracy: 0.8462 - val_loss: 1.4431 - val_categorical_accuracy: 0.6000\n",
      "\n",
      "Epoch 00016: saving model to Cnv2d+RNN-(Model 2)_(20,120,120,32)_2021-10-1605_35_54.630108/model-00016-0.37867-0.84615-1.44308-0.60000.h5\n",
      "\n",
      "Epoch 00016: ReduceLROnPlateau reducing learning rate to 0.0001250000059371814.\n",
      "Epoch 17/20\n",
      "21/21 [==============================] - 115s 6s/step - loss: 0.3158 - categorical_accuracy: 0.8839 - val_loss: 1.3899 - val_categorical_accuracy: 0.6200\n",
      "\n",
      "Epoch 00017: saving model to Cnv2d+RNN-(Model 2)_(20,120,120,32)_2021-10-1605_35_54.630108/model-00017-0.31579-0.88386-1.38993-0.62000.h5\n",
      "Epoch 18/20\n",
      "21/21 [==============================] - 118s 6s/step - loss: 0.2452 - categorical_accuracy: 0.9291 - val_loss: 1.5080 - val_categorical_accuracy: 0.6300\n",
      "\n",
      "Epoch 00018: saving model to Cnv2d+RNN-(Model 2)_(20,120,120,32)_2021-10-1605_35_54.630108/model-00018-0.24519-0.92911-1.50802-0.63000.h5\n",
      "\n",
      "Epoch 00018: ReduceLROnPlateau reducing learning rate to 6.25000029685907e-05.\n",
      "Epoch 19/20\n",
      "21/21 [==============================] - 134s 7s/step - loss: 0.1973 - categorical_accuracy: 0.9578 - val_loss: 1.5589 - val_categorical_accuracy: 0.5900\n",
      "\n",
      "Epoch 00019: saving model to Cnv2d+RNN-(Model 2)_(20,120,120,32)_2021-10-1605_35_54.630108/model-00019-0.19729-0.95777-1.55891-0.59000.h5\n",
      "Epoch 20/20\n",
      "21/21 [==============================] - 111s 6s/step - loss: 0.1750 - categorical_accuracy: 0.9668 - val_loss: 1.4338 - val_categorical_accuracy: 0.6300\n",
      "\n",
      "Epoch 00020: saving model to Cnv2d+RNN-(Model 2)_(20,120,120,32)_2021-10-1605_35_54.630108/model-00020-0.17500-0.96682-1.43381-0.63000.h5\n",
      "\n",
      "Epoch 00020: ReduceLROnPlateau reducing learning rate to 3.125000148429535e-05.\n"
     ]
    },
    {
     "data": {
      "image/png": "[encoded data removed]",
      "text/plain": [
       "<Figure size 1080x288 with 2 Axes>"
      ]
     },
     "metadata": {
      "needs_background": "light"
     },
     "output_type": "display_data"
    },
    {
     "name": "stdout",
     "output_type": "stream",
     "text": [
      "Max. Training Accuracy 0.9668174982070923\n",
      "Max. Validaiton Accuracy 0.6299999952316284\n"
     ]
    }
   ],
   "source": [
    "from keras.models import Sequential, Model\n",
    "from keras.layers import Dense, GRU, Flatten, TimeDistributed, Flatten, BatchNormalization, Activation,Dropout,LSTM\n",
    "from keras.layers.convolutional import Conv3D, MaxPooling3D,Conv2D,MaxPooling2D\n",
    "from keras.callbacks import ModelCheckpoint, ReduceLROnPlateau\n",
    "from tensorflow.keras import optimizers\n",
    "from keras.applications.vgg16 import VGG16\n",
    "\n",
    "        \n",
    "model = Sequential()\n",
    "model.add(TimeDistributed(Conv2D(16, make2dFilter(3), padding='same', activation='relu'), input_shape=(20,120,120,3)))\n",
    "model.add(TimeDistributed(BatchNormalization()))\n",
    "model.add(TimeDistributed(MaxPooling2D(make2dFilter(2))))\n",
    "\n",
    "model.add(TimeDistributed(Conv2D(32, make2dFilter(3), padding='same', activation='relu'), input_shape=(20,120,120,3)))\n",
    "model.add(TimeDistributed(BatchNormalization()))\n",
    "model.add(TimeDistributed(MaxPooling2D(make2dFilter(2))))\n",
    "\n",
    "model.add(TimeDistributed(Conv2D(64, make2dFilter(3), padding='same', activation='relu'), input_shape=(20,120,120,3)))\n",
    "model.add(TimeDistributed(BatchNormalization()))\n",
    "model.add(TimeDistributed(MaxPooling2D(make2dFilter(2))))\n",
    "\n",
    "model.add(TimeDistributed(Flatten())),\n",
    "model.add(LSTM(128, return_sequences=True))\n",
    "model.add(LSTM(256))\n",
    "model.add(Dense(8, activation='relu'))\n",
    "model.add(Dense(5, activation='softmax'))\n",
    "\n",
    "#Compliation\n",
    "adam= optimizers.Adam()\n",
    "model.compile(optimizer=adam, loss='categorical_crossentropy', metrics=['categorical_accuracy'])\n",
    "print(model.summary())\n",
    "\n",
    "\n",
    "#Genrator Creation \n",
    "\n",
    "train_generator = generator(train_path, train_doc, batch_size)\n",
    "val_generator = generator(val_path, val_doc, batch_size)\n",
    "\n",
    "\n",
    "\n",
    "\n",
    "# Callback Document Saving \".h5\"\n",
    "\n",
    "model_name = 'Cnv2d+RNN-(Model 2)' + '_' + '(20,120,120,32,20)' +'_'+ str(curr_dt_time).replace(' ','').replace(':','_')+'/'\n",
    "    \n",
    "if not os.path.exists(model_name):\n",
    "    os.mkdir(model_name)\n",
    "        \n",
    "filepath = model_name + 'model-{epoch:05d}-{loss:.5f}-{categorical_accuracy:.5f}-{val_loss:.5f}-{val_categorical_accuracy:.5f}.h5'\n",
    "\n",
    "checkpoint = ModelCheckpoint(filepath, monitor='val_loss', verbose=1, save_best_only=False, save_weights_only=False, mode='auto', period=1)\n",
    "\n",
    "LR = ReduceLROnPlateau(monitor='val_loss', factor=0.5, patience=2, verbose=1, mode='min', epsilon=0.0001, cooldown=0, min_lr=0.00001)\n",
    "callbacks_list = [checkpoint, LR]\n",
    "\n",
    "\n",
    "\n",
    "\n",
    "\n",
    "# The steps_per_epoch and validation_steps are used by fit_generator to decide the number of next() calls it need to make.\n",
    "\n",
    "if (num_train_sequences%batch_size) == 0:\n",
    "    steps_per_epoch = int(num_train_sequences/batch_size)\n",
    "else:\n",
    "    steps_per_epoch = (num_train_sequences//batch_size) + 1\n",
    "\n",
    "if (num_val_sequences%batch_size) == 0:\n",
    "    validation_steps = int(num_val_sequences/batch_size)\n",
    "else:\n",
    "    validation_steps = (num_val_sequences//batch_size) + 1\n",
    "    \n",
    "\n",
    "    \n",
    "    \n",
    "\n",
    "    \n",
    "    \n",
    "# Let us now fit the model. This will start training the model and with the help of the checkpoints, you'll be able to save the model at the end of each epoch.'''\n",
    "\n",
    "\n",
    "model1=model.fit(train_generator, steps_per_epoch=steps_per_epoch, epochs=num_epochs, verbose=1, \n",
    "                    callbacks=callbacks_list, validation_data=val_generator, \n",
    "                    validation_steps=validation_steps, class_weight=None, workers=1, initial_epoch=0)\n",
    "\n",
    "\n",
    "plotModelHistory(model1)"
   ]
  },
  {
   "cell_type": "markdown",
   "metadata": {
    "id": "OqRh2u-Cj5va"
   },
   "source": [
    "##  Cnv2d_RNN-(Model 3)"
   ]
  },
  {
   "cell_type": "markdown",
   "metadata": {
    "id": "ojxXAyFBj5va"
   },
   "source": [
    "> #### 20 Frames | Image_size= 120 * 120 | Batch Size = 32 | Epoch = 20 | Adding More Layers | With  Drop outs"
   ]
  },
  {
   "cell_type": "code",
   "execution_count": null,
   "metadata": {
    "id": "wkv34BiDj5vb"
   },
   "outputs": [],
   "source": [
    "batch_size =32     #experiment with the batch size 32\n",
    "x=20              #experiment with the Framea size  20\n",
    "y=120             #experiment with the image Height 120\n",
    "z=120              #experiment with the image width  120\n",
    "num_epochs = 20   #experiment with the Epoch 20"
   ]
  },
  {
   "cell_type": "code",
   "execution_count": null,
   "metadata": {
    "colab": {
     "base_uri": "https://localhost:8080/",
     "height": 1000
    },
    "id": "warbXjTtj5vc",
    "outputId": "90e5f332-5d83-4e29-99f2-e5bd8f400463",
    "scrolled": false
   },
   "outputs": [
    {
     "name": "stdout",
     "output_type": "stream",
     "text": [
      "Model: \"sequential\"\n",
      "_________________________________________________________________\n",
      "Layer (type)                 Output Shape              Param #   \n",
      "=================================================================\n",
      "time_distributed (TimeDistri (None, 20, 120, 120, 16)  448       \n",
      "_________________________________________________________________\n",
      "time_distributed_1 (TimeDist (None, 20, 120, 120, 16)  64        \n",
      "_________________________________________________________________\n",
      "time_distributed_2 (TimeDist (None, 20, 60, 60, 16)    0         \n",
      "_________________________________________________________________\n",
      "time_distributed_3 (TimeDist (None, 20, 60, 60, 32)    4640      \n",
      "_________________________________________________________________\n",
      "time_distributed_4 (TimeDist (None, 20, 60, 60, 32)    128       \n",
      "_________________________________________________________________\n",
      "dropout (Dropout)            (None, 20, 60, 60, 32)    0         \n",
      "_________________________________________________________________\n",
      "time_distributed_5 (TimeDist (None, 20, 30, 30, 32)    0         \n",
      "_________________________________________________________________\n",
      "time_distributed_6 (TimeDist (None, 20, 30, 30, 32)    9248      \n",
      "_________________________________________________________________\n",
      "time_distributed_7 (TimeDist (None, 20, 30, 30, 32)    128       \n",
      "_________________________________________________________________\n",
      "time_distributed_8 (TimeDist (None, 20, 15, 15, 32)    0         \n",
      "_________________________________________________________________\n",
      "time_distributed_9 (TimeDist (None, 20, 15, 15, 64)    18496     \n",
      "_________________________________________________________________\n",
      "time_distributed_10 (TimeDis (None, 20, 15, 15, 64)    256       \n",
      "_________________________________________________________________\n",
      "dropout_1 (Dropout)          (None, 20, 15, 15, 64)    0         \n",
      "_________________________________________________________________\n",
      "time_distributed_11 (TimeDis (None, 20, 7, 7, 64)      0         \n",
      "_________________________________________________________________\n",
      "time_distributed_12 (TimeDis (None, 20, 3136)          0         \n",
      "_________________________________________________________________\n",
      "lstm (LSTM)                  (None, 20, 128)           1671680   \n",
      "_________________________________________________________________\n",
      "lstm_1 (LSTM)                (None, 256)               394240    \n",
      "_________________________________________________________________\n",
      "dropout_2 (Dropout)          (None, 256)               0         \n",
      "_________________________________________________________________\n",
      "dense (Dense)                (None, 8)                 2056      \n",
      "_________________________________________________________________\n",
      "dense_1 (Dense)              (None, 5)                 45        \n",
      "=================================================================\n",
      "Total params: 2,101,429\n",
      "Trainable params: 2,101,141\n",
      "Non-trainable params: 288\n",
      "_________________________________________________________________\n",
      "None\n",
      "Source path =  /content/drive/MyDrive/Project_data/Project_data/train ; batch size = 32\n",
      "Epoch 1/20\n",
      "21/21 [==============================] - ETA: 0s - loss: 1.6204 - categorical_accuracy: 0.1991  Source path =  /content/drive/MyDrive/Project_data/Project_data/val ; batch size = 32\n",
      "21/21 [==============================] - 2180s 107s/step - loss: 1.6204 - categorical_accuracy: 0.1991 - val_loss: 1.6095 - val_categorical_accuracy: 0.2200\n",
      "Epoch 2/20\n",
      "21/21 [==============================] - 128s 6s/step - loss: 1.6096 - categorical_accuracy: 0.1961 - val_loss: 1.6093 - val_categorical_accuracy: 0.2000\n",
      "Epoch 3/20\n",
      "21/21 [==============================] - 126s 6s/step - loss: 1.6094 - categorical_accuracy: 0.1885 - val_loss: 1.6090 - val_categorical_accuracy: 0.2000\n",
      "Epoch 4/20\n",
      "21/21 [==============================] - 122s 6s/step - loss: 1.6094 - categorical_accuracy: 0.2036 - val_loss: 1.6089 - val_categorical_accuracy: 0.2100\n",
      "Epoch 5/20\n",
      "21/21 [==============================] - 126s 6s/step - loss: 1.6095 - categorical_accuracy: 0.1719 - val_loss: 1.6088 - val_categorical_accuracy: 0.2100\n",
      "Epoch 6/20\n",
      "21/21 [==============================] - 127s 6s/step - loss: 1.6092 - categorical_accuracy: 0.1961 - val_loss: 1.6079 - val_categorical_accuracy: 0.2000\n",
      "Epoch 7/20\n",
      "21/21 [==============================] - 126s 6s/step - loss: 1.6092 - categorical_accuracy: 0.1855 - val_loss: 1.6084 - val_categorical_accuracy: 0.2200\n",
      "Epoch 8/20\n",
      "21/21 [==============================] - 122s 6s/step - loss: 1.6091 - categorical_accuracy: 0.1931 - val_loss: 1.6079 - val_categorical_accuracy: 0.2100\n",
      "Epoch 9/20\n",
      "21/21 [==============================] - 123s 6s/step - loss: 1.6090 - categorical_accuracy: 0.1810 - val_loss: 1.6082 - val_categorical_accuracy: 0.2100\n",
      "Epoch 10/20\n",
      "21/21 [==============================] - 125s 6s/step - loss: 1.6089 - categorical_accuracy: 0.2051 - val_loss: 1.6072 - val_categorical_accuracy: 0.2200\n",
      "Epoch 11/20\n",
      "21/21 [==============================] - 126s 6s/step - loss: 1.6109 - categorical_accuracy: 0.1946 - val_loss: 1.6094 - val_categorical_accuracy: 0.2500\n",
      "Epoch 12/20\n",
      "21/21 [==============================] - 121s 6s/step - loss: 1.6147 - categorical_accuracy: 0.1991 - val_loss: 1.6074 - val_categorical_accuracy: 0.2400\n",
      "Epoch 13/20\n",
      "21/21 [==============================] - 121s 6s/step - loss: 1.6089 - categorical_accuracy: 0.2066 - val_loss: 1.6080 - val_categorical_accuracy: 0.2300\n",
      "Epoch 14/20\n",
      "21/21 [==============================] - 126s 6s/step - loss: 1.6092 - categorical_accuracy: 0.2036 - val_loss: 1.6056 - val_categorical_accuracy: 0.2600\n",
      "Epoch 15/20\n",
      "21/21 [==============================] - 130s 6s/step - loss: 1.6089 - categorical_accuracy: 0.2066 - val_loss: 1.6113 - val_categorical_accuracy: 0.2000\n",
      "Epoch 16/20\n",
      "21/21 [==============================] - 120s 6s/step - loss: 1.6088 - categorical_accuracy: 0.2066 - val_loss: 1.6062 - val_categorical_accuracy: 0.2300\n",
      "Epoch 17/20\n",
      "21/21 [==============================] - 125s 6s/step - loss: 1.6088 - categorical_accuracy: 0.2066 - val_loss: 1.6077 - val_categorical_accuracy: 0.2300\n",
      "Epoch 18/20\n",
      "21/21 [==============================] - 125s 6s/step - loss: 1.6089 - categorical_accuracy: 0.2066 - val_loss: 1.6059 - val_categorical_accuracy: 0.2800\n",
      "Epoch 19/20\n",
      "21/21 [==============================] - 128s 6s/step - loss: 1.6088 - categorical_accuracy: 0.2066 - val_loss: 1.6091 - val_categorical_accuracy: 0.2200\n",
      "Epoch 20/20\n",
      "21/21 [==============================] - 121s 6s/step - loss: 1.6087 - categorical_accuracy: 0.2066 - val_loss: 1.6074 - val_categorical_accuracy: 0.2400\n"
     ]
    },
    {
     "data": {
      "image/png": "[encoded data removed]",
      "text/plain": [
       "<Figure size 1080x288 with 2 Axes>"
      ]
     },
     "metadata": {
      "needs_background": "light"
     },
     "output_type": "display_data"
    },
    {
     "name": "stdout",
     "output_type": "stream",
     "text": [
      "Max. Training Accuracy 0.20663650333881378\n",
      "Max. Validaiton Accuracy 0.2800000011920929\n"
     ]
    }
   ],
   "source": [
    "from keras.models import Sequential, Model\n",
    "from keras.layers import Dense, GRU, Flatten, TimeDistributed, Flatten, BatchNormalization, Activation,Dropout,LSTM\n",
    "from keras.layers.convolutional import Conv3D, MaxPooling3D,Conv2D,MaxPooling2D\n",
    "from keras.callbacks import ModelCheckpoint, ReduceLROnPlateau\n",
    "from tensorflow.keras import optimizers\n",
    "from keras.applications.vgg16 import VGG16\n",
    "\n",
    "        \n",
    "model = Sequential()\n",
    "model.add(TimeDistributed(Conv2D(16, make2dFilter(3), padding='same', activation='relu'), input_shape=(20,120,120,3)))\n",
    "model.add(TimeDistributed(BatchNormalization()))\n",
    "model.add(TimeDistributed(MaxPooling2D(make2dFilter(2))))\n",
    "\n",
    "model.add(TimeDistributed(Conv2D(32, make2dFilter(3), padding='same', activation='relu'), input_shape=(20,120,120,3)))\n",
    "model.add(TimeDistributed(BatchNormalization()))\n",
    "model.add(Dropout(0.5))\n",
    "model.add(TimeDistributed(MaxPooling2D(make2dFilter(2))))\n",
    "\n",
    "\n",
    "model.add(TimeDistributed(Conv2D(32, make2dFilter(3), padding='same', activation='relu'), input_shape=(20,120,120,3)))\n",
    "model.add(TimeDistributed(BatchNormalization()))\n",
    "model.add(TimeDistributed(MaxPooling2D(make2dFilter(2))))\n",
    "\n",
    "\n",
    "model.add(TimeDistributed(Conv2D(64, make2dFilter(3), padding='same', activation='relu'), input_shape=(20,120,120,3)))\n",
    "model.add(TimeDistributed(BatchNormalization()))\n",
    "model.add(Dropout(0.5))\n",
    "model.add(TimeDistributed(MaxPooling2D(make2dFilter(2))))\n",
    "\n",
    "\n",
    "\n",
    "model.add(TimeDistributed(Flatten()))\n",
    "model.add(LSTM(128, return_sequences=True))\n",
    "model.add(LSTM(256))\n",
    "model.add(Dropout(0.5))\n",
    "model.add(Dense(8, activation='relu'))\n",
    "model.add(Dense(5, activation='softmax'))\n",
    "\n",
    "#Compliation\n",
    "adam= optimizers.Adam()\n",
    "model.compile(optimizer=adam, loss='categorical_crossentropy', metrics=['categorical_accuracy'])\n",
    "print(model.summary())\n",
    "\n",
    "\n",
    "#Genrator Creation \n",
    "\n",
    "train_generator = generator(train_path, train_doc, batch_size)\n",
    "val_generator = generator(val_path, val_doc, batch_size)\n",
    "\n",
    "\n",
    "\n",
    "\n",
    "Callback Document Saving \".h5\"\n",
    "\n",
    "model_name = 'Cnv2d+RNN-(Model 3)' + '_' + '(20,120,120,32,20)' +'_'+ str(curr_dt_time).replace(' ','').replace(':','_')+'/'\n",
    "    \n",
    "if not os.path.exists(model_name):\n",
    "    os.mkdir(model_name)\n",
    "        \n",
    "filepath = model_name + 'model-{epoch:05d}-{loss:.5f}-{categorical_accuracy:.5f}-{val_loss:.5f}-{val_categorical_accuracy:.5f}.h5'\n",
    "\n",
    "checkpoint = ModelCheckpoint(filepath, monitor='val_loss', verbose=1, save_best_only=False, save_weights_only=False, mode='auto', period=1)\n",
    "\n",
    "LR = ReduceLROnPlateau(monitor='val_loss', factor=0.5, patience=2, verbose=1, mode='min', epsilon=0.0001, cooldown=0, min_lr=0.00001)\n",
    "callbacks_list = [checkpoint, LR]\n",
    "\n",
    "\n",
    "\n",
    "\n",
    "\n",
    "# The steps_per_epoch and validation_steps are used by fit_generator to decide the number of next() calls it need to make.\n",
    "\n",
    "if (num_train_sequences%batch_size) == 0:\n",
    "    steps_per_epoch = int(num_train_sequences/batch_size)\n",
    "else:\n",
    "    steps_per_epoch = (num_train_sequences//batch_size) + 1\n",
    "\n",
    "if (num_val_sequences%batch_size) == 0:\n",
    "    validation_steps = int(num_val_sequences/batch_size)\n",
    "else:\n",
    "    validation_steps = (num_val_sequences//batch_size) + 1\n",
    "    \n",
    "\n",
    "    \n",
    "    \n",
    "\n",
    "    \n",
    "    \n",
    "# Let us now fit the model. This will start training the model and with the help of the checkpoints, you'll be able to save the model at the end of each epoch.'''\n",
    "\n",
    "\n",
    "model1=model.fit(train_generator, steps_per_epoch=steps_per_epoch, epochs=num_epochs, verbose=1, \n",
    "                     callbacks=callbacks_list,validation_data=val_generator, \n",
    "                    validation_steps=validation_steps, class_weight=None, workers=1, initial_epoch=0)\n",
    "\n",
    "\n",
    "\n",
    "plotModelHistory(model1)"
   ]
  },
  {
   "cell_type": "markdown",
   "metadata": {
    "id": "OkJuqF3Dj5vd"
   },
   "source": [
    "# Transfer Learning(CNN)  + RNN(GRU)"
   ]
  },
  {
   "cell_type": "markdown",
   "metadata": {
    "id": "CWGZTA8wj5vd"
   },
   "source": [
    "## Generator\n",
    "This is one of the most important part of the code. The overall structure of the generator has been given. In the generator, you are going to preprocess the images as you have images of 2 different dimensions as well as create a batch of video frames. You have to experiment with `img_idx`, `y`,`z` and normalization such that you get high accuracy."
   ]
  },
  {
   "cell_type": "code",
   "execution_count": null,
   "metadata": {
    "id": "tsFjpbsWj5ve"
   },
   "outputs": [],
   "source": [
    "def generator(source_path, folder_list, batch_size):\n",
    "    print( 'Source path = ', source_path, '; batch size =', batch_size)\n",
    "    img_idx = [0,2,4,6,8,10,12,14,16,18,20,22,24,26,28] #create a list of image numbers you want to use for a particular video\n",
    "    while True:\n",
    "        t = np.random.permutation(folder_list)\n",
    "        num_batches = int(len(t)/batch_size) # calculate the number of batches\n",
    "        for batch in range(num_batches): # we iterate over the number of batches\n",
    "            batch_data = np.zeros((batch_size,x,y,z,3)) # x is the number of images you use for each video, (y,z) is the final size of the input images and 3 is the number of channels RGB\n",
    "            batch_labels = np.zeros((batch_size,5)) # batch_labels is the one hot representation of the output \n",
    "            for folder in range(batch_size): # iterate over the batch_size\n",
    "                imgs = os.listdir(source_path+'/'+ t[folder + (batch*batch_size)].split(';')[0]) # read all the images in the folder\n",
    "                for idx,item in enumerate(img_idx): #  Iterate iver the frames/images of a folder to read them in\n",
    "                    image = imread(source_path+'/'+ t[folder + (batch*batch_size)].strip().split(';')[0]+'/'+imgs[item]).astype(np.float32)\n",
    "                    \n",
    "                    #crop the images and resize them. Note that the images are of 2 different shape \n",
    "                    #and the conv3D will throw error if the inputs in a batch have different shapes\n",
    "                    \n",
    "                    \n",
    "                    if image.shape[1] == 160:\n",
    "                        image = image[:,20:140,:].astype(np.float32)\n",
    "                    else:\n",
    "                        image = resize(image,(120,120)).astype(np.float32)\n",
    "                    \n",
    "                    batch_data[folder,idx,:,:,0] = image[:,:,0] - 104\n",
    "                    batch_data[folder,idx,:,:,1] = image[:,:,1] - 117\n",
    "                    batch_data[folder,idx,:,:,2] = image[:,:,2] - 123\n",
    "                    \n",
    "                batch_labels[folder, int(t[folder + (batch*batch_size)].strip().split(';')[2])] = 1\n",
    "            yield batch_data, batch_labels #you yield the batch_data and the batch_labels, remember what does yield do\n",
    "            \n",
    "         # write the code for the remaining data points which are left after full batches\n",
    "\n",
    "        if (len(t)%batch_size) != 0:\n",
    "            batch_data = np.zeros((len(t)%batch_size,15,120,120,3))\n",
    "            batch_labels = np.zeros((len(t)%batch_size,5))\n",
    "            for folder in range(len(t)%batch_size):\n",
    "                imgs = os.listdir(source_path+'/'+ t[folder + (num_batches*batch_size)].split(';')[0])\n",
    "                for idx,item in enumerate(img_idx):\n",
    "                    image = imread(source_path+'/'+ t[folder + (num_batches*batch_size)].strip().split(';')[0]+'/'+imgs[item]).astype(np.float32)\n",
    "                    if image.shape[1] == 160:\n",
    "                        image = image[:,20:140,:].astype(np.float32)\n",
    "                    else:\n",
    "                        image = resize(image,(120,120)).astype(np.float32)\n",
    "\n",
    "                    batch_data[folder,idx,:,:,0] = image[:,:,0] - 104\n",
    "                    batch_data[folder,idx,:,:,1] = image[:,:,1] - 117\n",
    "                    batch_data[folder,idx,:,:,2] = image[:,:,2] - 123\n",
    "\n",
    "                batch_labels[folder, int(t[folder + (num_batches*batch_size)].strip().split(';')[2])] = 1\n",
    "\n",
    "            yield batch_data, batch_labels"
   ]
  },
  {
   "cell_type": "markdown",
   "metadata": {
    "id": "cyp5a_jcj5vf"
   },
   "source": [
    "## TL_VGG16_GRU(Model1)"
   ]
  },
  {
   "cell_type": "markdown",
   "metadata": {
    "id": "tjohvslGj5vg"
   },
   "source": [
    "> #### 18 Frames | Image_size= 120 * 120 | Batch Size = 32 | Epoch = 20"
   ]
  },
  {
   "cell_type": "code",
   "execution_count": null,
   "metadata": {
    "id": "_y8vC8-qj5vg"
   },
   "outputs": [],
   "source": [
    "batch_size =32   #experiment with the batch size 32\n",
    "x=18        #experiment with the Frame size 18\n",
    "y=120        #experiment with the image height 120\n",
    "z=120         #experiment with the batch Width 120\n",
    "num_epochs=20   #experiment with the batch size 20"
   ]
  },
  {
   "cell_type": "code",
   "execution_count": null,
   "metadata": {
    "colab": {
     "base_uri": "https://localhost:8080/",
     "height": 995
    },
    "id": "0pT1u-yBj5vh",
    "outputId": "e779fe62-cf91-4f52-facc-e6cc17c7d7d0"
   },
   "outputs": [
    {
     "name": "stdout",
     "output_type": "stream",
     "text": [
      "WARNING:tensorflow:Layer gru_1 will not use cuDNN kernels since it doesn't meet the criteria. It will use a generic GPU kernel as fallback when running on GPU.\n",
      "Model: \"sequential_1\"\n",
      "_________________________________________________________________\n",
      "Layer (type)                 Output Shape              Param #   \n",
      "=================================================================\n",
      "time_distributed_2 (TimeDist (None, None, 512)         14714688  \n",
      "_________________________________________________________________\n",
      "time_distributed_3 (TimeDist (None, None, 512)         0         \n",
      "_________________________________________________________________\n",
      "gru_1 (GRU)                  (None, 256)               591360    \n",
      "_________________________________________________________________\n",
      "dense_1 (Dense)              (None, 5)                 1285      \n",
      "=================================================================\n",
      "Total params: 15,307,333\n",
      "Trainable params: 15,307,333\n",
      "Non-trainable params: 0\n",
      "_________________________________________________________________\n",
      "None\n",
      "Source path =  /content/drive/MyDrive/Project_data/Project_data/train ; batch size = 32\n",
      "Epoch 1/10\n",
      "21/21 [==============================] - ETA: 0s - loss: 2962.6409 - categorical_accuracy: 0.1885  Source path =  /content/drive/MyDrive/Project_data/Project_data/val ; batch size = 32\n",
      "21/21 [==============================] - 2175s 105s/step - loss: 2962.6409 - categorical_accuracy: 0.1885 - val_loss: 483.4127 - val_categorical_accuracy: 0.2200\n",
      "Epoch 2/10\n",
      "21/21 [==============================] - 140s 7s/step - loss: 6616.4629 - categorical_accuracy: 0.1976 - val_loss: 986.1319 - val_categorical_accuracy: 0.2000\n",
      "Epoch 3/10\n",
      "21/21 [==============================] - 139s 7s/step - loss: 1279.7222 - categorical_accuracy: 0.2293 - val_loss: 38.9372 - val_categorical_accuracy: 0.2500\n",
      "Epoch 4/10\n",
      "21/21 [==============================] - 134s 7s/step - loss: 19.2681 - categorical_accuracy: 0.2051 - val_loss: 1.5824 - val_categorical_accuracy: 0.2300\n",
      "Epoch 5/10\n",
      "21/21 [==============================] - 139s 7s/step - loss: 1.6233 - categorical_accuracy: 0.2278 - val_loss: 1.5706 - val_categorical_accuracy: 0.3400\n",
      "Epoch 6/10\n",
      "21/21 [==============================] - 138s 7s/step - loss: 1.5938 - categorical_accuracy: 0.2489 - val_loss: 1.5537 - val_categorical_accuracy: 0.2900\n",
      "Epoch 7/10\n",
      "21/21 [==============================] - 140s 7s/step - loss: 1.5869 - categorical_accuracy: 0.2549 - val_loss: 1.5597 - val_categorical_accuracy: 0.2400\n",
      "Epoch 8/10\n",
      "21/21 [==============================] - 134s 7s/step - loss: 1.5673 - categorical_accuracy: 0.2549 - val_loss: 1.5452 - val_categorical_accuracy: 0.3600\n",
      "Epoch 9/10\n",
      "21/21 [==============================] - 137s 7s/step - loss: 1.5610 - categorical_accuracy: 0.3152 - val_loss: 1.5570 - val_categorical_accuracy: 0.2700\n",
      "Epoch 10/10\n",
      "21/21 [==============================] - 137s 7s/step - loss: 1.5419 - categorical_accuracy: 0.3017 - val_loss: 1.5160 - val_categorical_accuracy: 0.4400\n"
     ]
    },
    {
     "data": {
      "image/png": "[encoded data removed]",
      "text/plain": [
       "<Figure size 1080x288 with 2 Axes>"
      ]
     },
     "metadata": {
      "needs_background": "light"
     },
     "output_type": "display_data"
    },
    {
     "name": "stdout",
     "output_type": "stream",
     "text": [
      "Max. Training Accuracy 0.3152337968349457\n",
      "Max. Validaiton Accuracy 0.4399999976158142\n"
     ]
    }
   ],
   "source": [
    "from tensorflow.python.keras.applications import imagenet_utils\n",
    "\n",
    "from keras.applications.vgg16 import VGG16\n",
    "from keras.models import Sequential, Model\n",
    "from keras.layers import Dense, GRU, Flatten, TimeDistributed, Flatten, BatchNormalization, Activation,Dropout,LSTM,GlobalAveragePooling2D\n",
    "from keras.layers.convolutional import Conv3D, MaxPooling3D,Conv2D,MaxPooling2D\n",
    "from keras.callbacks import ModelCheckpoint, ReduceLROnPlateau\n",
    "from tensorflow.keras import optimizers\n",
    "from tensorflow.keras.optimizers import Adam\n",
    "\n",
    "\n",
    "\n",
    "base_model = VGG16(include_top=False, weights='imagenet', input_shape=(120,120,3))\n",
    "\n",
    "x = base_model.output\n",
    "x = GlobalAveragePooling2D()(x)\n",
    "\n",
    "base_model = Model(inputs=base_model.input, outputs=x)\n",
    "\n",
    "model = Sequential()\n",
    "\n",
    "model.add(TimeDistributed(base_model, input_shape=base_model.input_shape))\n",
    "model.add(TimeDistributed(Flatten(input_shape=base_model.input_shape[1:])))\n",
    "model.add(GRU(256, activation='relu', dropout=0.5))\n",
    "model.add(Dense(5, activation = 'softmax'))\n",
    "\n",
    "#Compliation\n",
    "model.compile(optimizer = Adam(), loss = 'categorical_crossentropy', metrics = ['categorical_accuracy'])\n",
    "print(model.summary())\n",
    "\n",
    "#Genrator Creation \n",
    "\n",
    "train_generator = generator(train_path, train_doc, batch_size)\n",
    "val_generator = generator(val_path, val_doc, batch_size)\n",
    "\n",
    "\n",
    "\n",
    "model_name = 'TL_VGG16_GRU(Model1)' + '_' + '(18,120,120,32,20)' + '_' + str(curr_dt_time).replace(' ','').replace(':','_') + '/'\n",
    "    \n",
    "if not os.path.exists(model_name):\n",
    "    os.mkdir(model_name)\n",
    "        \n",
    "filepath = model_name + 'model-{epoch:05d}-{loss:.5f}-{categorical_accuracy:.5f}-{val_loss:.5f}-{val_categorical_accuracy:.5f}.h5'\n",
    "\n",
    "checkpoint = ModelCheckpoint(filepath, monitor='val_loss', verbose=1, save_best_only=False, save_weights_only=False, mode='auto', period=1)\n",
    "\n",
    "LR = ReduceLROnPlateau(monitor='val_loss', factor=0.5, patience=2, verbose=1, mode='min', epsilon=0.0001, cooldown=0, min_lr=0.00001)\n",
    "callbacks_list = [checkpoint, LR]\n",
    "\n",
    "\n",
    "\n",
    "if (num_train_sequences%batch_size) == 0:\n",
    "    steps_per_epoch = int(num_train_sequences/batch_size)\n",
    "else:\n",
    "    steps_per_epoch = (num_train_sequences//batch_size) + 1\n",
    "\n",
    "if (num_val_sequences%batch_size) == 0:\n",
    "    validation_steps = int(num_val_sequences/batch_size)\n",
    "else:\n",
    "    validation_steps = (num_val_sequences//batch_size) + 1\n",
    "\n",
    "\n",
    "\n",
    "    \n",
    "# Let us now fit the model. This will start training the model and with the help of the checkpoints, you'll be able to save the model at the end of each epoch.'''\n",
    "\n",
    "\n",
    "model1=model.fit(train_generator, steps_per_epoch=steps_per_epoch, epochs=num_epochs, verbose=1, \n",
    "                    callbacks=callbacks_list,validation_data=val_generator, \n",
    "                    validation_steps=validation_steps, class_weight=None, workers=1, initial_epoch=0)\n",
    "\n",
    "plotModelHistory(model1)\n"
   ]
  },
  {
   "cell_type": "markdown",
   "metadata": {
    "id": "r5dOYOctJoY7"
   },
   "source": [
    "## TL_EfficientNetB0_GRU(Model2)"
   ]
  },
  {
   "cell_type": "markdown",
   "metadata": {
    "id": "Tk3WaXSUbxCN"
   },
   "source": [
    "> #### 18 Frames | Image_size= 120 * 120 | Batch Size = 20 | Epoch = 20"
   ]
  },
  {
   "cell_type": "markdown",
   "metadata": {
    "id": "XLE4WysNJ5PX"
   },
   "source": [
    "## Generator\n",
    "This is one of the most important part of the code. The overall structure of the generator has been given. In the generator, you are going to preprocess the images as you have images of 2 different dimensions as well as create a batch of video frames. You have to experiment with `img_idx`, `y`,`z` and normalization such that you get high accuracy."
   ]
  },
  {
   "cell_type": "code",
   "execution_count": 8,
   "metadata": {
    "id": "6rv4BgAk5L0x"
   },
   "outputs": [],
   "source": [
    "def generator(source_path, folder_list, batch_size):\n",
    "    print( 'Source path = ', source_path, '; batch size =', batch_size)\n",
    "    img_idx = [0,2,4,6,8,10,12,14,16,18,20,22,24,26,28] #create a list of image numbers you want to use for a particular video\n",
    "    while True:\n",
    "        t = np.random.permutation(folder_list)\n",
    "        num_batches = int(len(t)/batch_size) # calculate the number of batches\n",
    "        for batch in range(num_batches): # we iterate over the number of batches\n",
    "            batch_data = np.zeros((batch_size,x,y,z,3)) # x is the number of images you use for each video, (y,z) is the final size of the input images and 3 is the number of channels RGB\n",
    "            batch_labels = np.zeros((batch_size,5)) # batch_labels is the one hot representation of the output\n",
    "            for folder in range(batch_size): # iterate over the batch_size\n",
    "                imgs = os.listdir(source_path+'/'+ t[folder + (batch*batch_size)].split(';')[0])  # read all the images in the folder\n",
    "                for idx,item in enumerate(img_idx): #  Iterate iver the frames/images of a folder to read them in\n",
    "                    image = imread(source_path+'/'+ t[folder + (batch*batch_size)].strip().split(';')[0]+'/'+imgs[item]).astype(np.float32)\n",
    "                    \n",
    "                    \n",
    "                    #crop the images and resize them. Note that the images are of 2 different shape \n",
    "                    #and the conv3D will throw error if the inputs in a batch have different shapes\n",
    "                    \n",
    "                    if image.shape[1] == 160:\n",
    "                        image = image[:,20:140,:].astype(np.float32)\n",
    "                    else:\n",
    "                        image = resize(image,(120,120)).astype(np.float32)\n",
    "                    \n",
    "                    batch_data[folder,idx,:,:,0] = image[:,:,0] - 104\n",
    "                    batch_data[folder,idx,:,:,1] = image[:,:,1] - 117\n",
    "                    batch_data[folder,idx,:,:,2] = image[:,:,2] - 123\n",
    "                    \n",
    "                batch_labels[folder, int(t[folder + (batch*batch_size)].strip().split(';')[2])] = 1\n",
    "            yield batch_data, batch_labels #you yield the batch_data and the batch_labels, remember what does yield do\n",
    "\n",
    "         # write the code for the remaining data points which are left after full batches\n",
    "        \n",
    "        if (len(t)%batch_size) != 0:\n",
    "            batch_data = np.zeros((len(t)%batch_size,15,120,120,3))\n",
    "            batch_labels = np.zeros((len(t)%batch_size,5))\n",
    "            for folder in range(len(t)%batch_size):\n",
    "                imgs = os.listdir(source_path+'/'+ t[folder + (num_batches*batch_size)].split(';')[0])\n",
    "                for idx,item in enumerate(img_idx):\n",
    "                    image = imread(source_path+'/'+ t[folder + (num_batches*batch_size)].strip().split(';')[0]+'/'+imgs[item]).astype(np.float32)\n",
    "                    if image.shape[1] == 160:\n",
    "                        image = image[:,20:140,:].astype(np.float32)\n",
    "                    else:\n",
    "                        image = resize(image,(120,120)).astype(np.float32)\n",
    "\n",
    "                    batch_data[folder,idx,:,:,0] = image[:,:,0] - 104\n",
    "                    batch_data[folder,idx,:,:,1] = image[:,:,1] - 117\n",
    "                    batch_data[folder,idx,:,:,2] = image[:,:,2] - 123\n",
    "\n",
    "                batch_labels[folder, int(t[folder + (num_batches*batch_size)].strip().split(';')[2])] = 1\n",
    "\n",
    "            yield batch_data, batch_labels"
   ]
  },
  {
   "cell_type": "code",
   "execution_count": 10,
   "metadata": {
    "id": "UwKdtCKT8YIc"
   },
   "outputs": [],
   "source": [
    "batch_size =20   #experiment with the batch size 20\n",
    "x=18        #experiment with the Frame size 18\n",
    "y=120        #experiment with the image height 120\n",
    "z=120         #experiment with the batch Width 120b\n",
    "num_epochs=20  #experiment with the batch size 20"
   ]
  },
  {
   "cell_type": "code",
   "execution_count": 11,
   "metadata": {
    "colab": {
     "base_uri": "https://localhost:8080/",
     "height": 520
    },
    "id": "S4d-r9VhNYva",
    "outputId": "4fca55f4-d6fa-467c-ba40-3ecc24401159",
    "scrolled": false
   },
   "outputs": [
    {
     "name": "stdout",
     "output_type": "stream",
     "text": [
      "Downloading data from https://storage.googleapis.com/keras-applications/efficientnetb0_notop.h5\n",
      "16711680/16705208 [==============================] - 0s 0us/step\n",
      "16719872/16705208 [==============================] - 0s 0us/step\n",
      "Model: \"sequential\"\n",
      "_________________________________________________________________\n",
      "Layer (type)                 Output Shape              Param #   \n",
      "=================================================================\n",
      "time_distributed (TimeDistri (None, None, 1280)        4049571   \n",
      "_________________________________________________________________\n",
      "time_distributed_1 (TimeDist (None, None, 1280)        0         \n",
      "_________________________________________________________________\n",
      "gru (GRU)                    (None, 64)                258432    \n",
      "_________________________________________________________________\n",
      "dense (Dense)                (None, 5)                 325       \n",
      "=================================================================\n",
      "Total params: 4,308,328\n",
      "Trainable params: 4,266,305\n",
      "Non-trainable params: 42,023\n",
      "_________________________________________________________________\n",
      "None\n",
      "WARNING:tensorflow:`period` argument is deprecated. Please use `save_freq` to specify the frequency in number of batches seen.\n",
      "WARNING:tensorflow:`epsilon` argument is deprecated and will be removed, use `min_delta` instead.\n",
      "Source path =  train ; batch size = 20\n",
      "Epoch 1/20\n",
      "34/34 [==============================] - ETA: 0s - loss: 0.9482 - categorical_accuracy: 0.6109 Source path =  val ; batch size = 20\n",
      "34/34 [==============================] - 396s 11s/step - loss: 0.9482 - categorical_accuracy: 0.6109 - val_loss: 1.8112 - val_categorical_accuracy: 0.5400\n",
      "\n",
      "Epoch 00001: saving model to TL_EfficientNetB0(Model2)_(18,120,120,20,20)_2021-10-2006_13_40.628906/model-00001-0.94818-0.61086-1.81121-0.54000.h5\n",
      "Epoch 2/20\n",
      "34/34 [==============================] - 359s 11s/step - loss: 0.2103 - categorical_accuracy: 0.9276 - val_loss: 0.8297 - val_categorical_accuracy: 0.8400\n",
      "\n",
      "Epoch 00002: saving model to TL_EfficientNetB0(Model2)_(18,120,120,20,20)_2021-10-2006_13_40.628906/model-00002-0.21030-0.92760-0.82969-0.84000.h5\n",
      "Epoch 3/20\n",
      "34/34 [==============================] - 357s 10s/step - loss: 0.1273 - categorical_accuracy: 0.9563 - val_loss: 0.9516 - val_categorical_accuracy: 0.8100\n",
      "\n",
      "Epoch 00003: saving model to TL_EfficientNetB0(Model2)_(18,120,120,20,20)_2021-10-2006_13_40.628906/model-00003-0.12735-0.95626-0.95165-0.81000.h5\n",
      "Epoch 4/20\n",
      "34/34 [==============================] - 352s 10s/step - loss: 0.1266 - categorical_accuracy: 0.9623 - val_loss: 0.5784 - val_categorical_accuracy: 0.8400\n",
      "\n",
      "Epoch 00004: saving model to TL_EfficientNetB0(Model2)_(18,120,120,20,20)_2021-10-2006_13_40.628906/model-00004-0.12657-0.96229-0.57837-0.84000.h5\n",
      "Epoch 5/20\n",
      "34/34 [==============================] - 353s 10s/step - loss: 0.2366 - categorical_accuracy: 0.9291 - val_loss: 1.3449 - val_categorical_accuracy: 0.6400\n",
      "\n",
      "Epoch 00005: saving model to TL_EfficientNetB0(Model2)_(18,120,120,20,20)_2021-10-2006_13_40.628906/model-00005-0.23664-0.92911-1.34491-0.64000.h5\n",
      "Epoch 6/20\n",
      "34/34 [==============================] - 347s 10s/step - loss: 0.1581 - categorical_accuracy: 0.9472 - val_loss: 0.7316 - val_categorical_accuracy: 0.8100\n",
      "\n",
      "Epoch 00006: saving model to TL_EfficientNetB0(Model2)_(18,120,120,20,20)_2021-10-2006_13_40.628906/model-00006-0.15813-0.94721-0.73161-0.81000.h5\n",
      "\n",
      "Epoch 00006: ReduceLROnPlateau reducing learning rate to 0.0005000000237487257.\n",
      "Epoch 7/20\n",
      "34/34 [==============================] - 349s 10s/step - loss: 0.0902 - categorical_accuracy: 0.9789 - val_loss: 0.2223 - val_categorical_accuracy: 0.9200\n",
      "\n",
      "Epoch 00007: saving model to TL_EfficientNetB0(Model2)_(18,120,120,20,20)_2021-10-2006_13_40.628906/model-00007-0.09023-0.97888-0.22228-0.92000.h5\n",
      "Epoch 8/20\n",
      "34/34 [==============================] - 349s 10s/step - loss: 0.0744 - categorical_accuracy: 0.9819 - val_loss: 0.2240 - val_categorical_accuracy: 0.8900\n",
      "\n",
      "Epoch 00008: saving model to TL_EfficientNetB0(Model2)_(18,120,120,20,20)_2021-10-2006_13_40.628906/model-00008-0.07437-0.98190-0.22397-0.89000.h5\n",
      "Epoch 9/20\n",
      "34/34 [==============================] - 348s 10s/step - loss: 0.0543 - categorical_accuracy: 0.9804 - val_loss: 0.3628 - val_categorical_accuracy: 0.8800\n",
      "\n",
      "Epoch 00009: saving model to TL_EfficientNetB0(Model2)_(18,120,120,20,20)_2021-10-2006_13_40.628906/model-00009-0.05426-0.98039-0.36276-0.88000.h5\n",
      "\n",
      "Epoch 00009: ReduceLROnPlateau reducing learning rate to 0.0002500000118743628.\n",
      "Epoch 10/20\n",
      "34/34 [==============================] - 348s 10s/step - loss: 0.0463 - categorical_accuracy: 0.9879 - val_loss: 0.1388 - val_categorical_accuracy: 0.9500\n",
      "\n",
      "Epoch 00010: saving model to TL_EfficientNetB0(Model2)_(18,120,120,20,20)_2021-10-2006_13_40.628906/model-00010-0.04628-0.98793-0.13878-0.95000.h5\n",
      "Epoch 11/20\n",
      "34/34 [==============================] - 344s 10s/step - loss: 0.0257 - categorical_accuracy: 0.9940 - val_loss: 0.1482 - val_categorical_accuracy: 0.9400\n",
      "\n",
      "Epoch 00011: saving model to TL_EfficientNetB0(Model2)_(18,120,120,20,20)_2021-10-2006_13_40.628906/model-00011-0.02565-0.99397-0.14821-0.94000.h5\n",
      "Epoch 12/20\n",
      "34/34 [==============================] - 347s 10s/step - loss: 0.0178 - categorical_accuracy: 0.9940 - val_loss: 0.1679 - val_categorical_accuracy: 0.9500\n",
      "\n",
      "Epoch 00012: saving model to TL_EfficientNetB0(Model2)_(18,120,120,20,20)_2021-10-2006_13_40.628906/model-00012-0.01779-0.99397-0.16790-0.95000.h5\n",
      "\n",
      "Epoch 00012: ReduceLROnPlateau reducing learning rate to 0.0001250000059371814.\n",
      "Epoch 13/20\n",
      "34/34 [==============================] - 345s 10s/step - loss: 0.0071 - categorical_accuracy: 1.0000 - val_loss: 0.0955 - val_categorical_accuracy: 0.9600\n",
      "\n",
      "Epoch 00013: saving model to TL_EfficientNetB0(Model2)_(18,120,120,20,20)_2021-10-2006_13_40.628906/model-00013-0.00708-1.00000-0.09554-0.96000.h5\n",
      "Epoch 14/20\n",
      "34/34 [==============================] - 346s 10s/step - loss: 0.0220 - categorical_accuracy: 0.9955 - val_loss: 0.0953 - val_categorical_accuracy: 0.9600\n",
      "\n",
      "Epoch 00014: saving model to TL_EfficientNetB0(Model2)_(18,120,120,20,20)_2021-10-2006_13_40.628906/model-00014-0.02201-0.99548-0.09531-0.96000.h5\n",
      "Epoch 15/20\n",
      "34/34 [==============================] - 344s 10s/step - loss: 0.0132 - categorical_accuracy: 0.9940 - val_loss: 0.0809 - val_categorical_accuracy: 0.9700\n",
      "\n",
      "Epoch 00015: saving model to TL_EfficientNetB0(Model2)_(18,120,120,20,20)_2021-10-2006_13_40.628906/model-00015-0.01319-0.99397-0.08091-0.97000.h5\n",
      "Epoch 16/20\n",
      "34/34 [==============================] - 346s 10s/step - loss: 0.0147 - categorical_accuracy: 0.9955 - val_loss: 0.1407 - val_categorical_accuracy: 0.9600\n",
      "\n",
      "Epoch 00016: saving model to TL_EfficientNetB0(Model2)_(18,120,120,20,20)_2021-10-2006_13_40.628906/model-00016-0.01472-0.99548-0.14073-0.96000.h5\n",
      "Epoch 17/20\n",
      "34/34 [==============================] - 352s 10s/step - loss: 0.0048 - categorical_accuracy: 1.0000 - val_loss: 0.1245 - val_categorical_accuracy: 0.9600\n",
      "\n",
      "Epoch 00017: saving model to TL_EfficientNetB0(Model2)_(18,120,120,20,20)_2021-10-2006_13_40.628906/model-00017-0.00479-1.00000-0.12453-0.96000.h5\n",
      "\n",
      "Epoch 00017: ReduceLROnPlateau reducing learning rate to 6.25000029685907e-05.\n",
      "Epoch 18/20\n",
      "34/34 [==============================] - 343s 10s/step - loss: 0.0179 - categorical_accuracy: 0.9955 - val_loss: 0.0941 - val_categorical_accuracy: 0.9500\n",
      "\n",
      "Epoch 00018: saving model to TL_EfficientNetB0(Model2)_(18,120,120,20,20)_2021-10-2006_13_40.628906/model-00018-0.01788-0.99548-0.09405-0.95000.h5\n",
      "Epoch 19/20\n",
      "34/34 [==============================] - 346s 10s/step - loss: 0.0030 - categorical_accuracy: 1.0000 - val_loss: 0.0922 - val_categorical_accuracy: 0.9500\n",
      "\n",
      "Epoch 00019: saving model to TL_EfficientNetB0(Model2)_(18,120,120,20,20)_2021-10-2006_13_40.628906/model-00019-0.00304-1.00000-0.09223-0.95000.h5\n",
      "\n",
      "Epoch 00019: ReduceLROnPlateau reducing learning rate to 3.125000148429535e-05.\n",
      "Epoch 20/20\n",
      "34/34 [==============================] - 345s 10s/step - loss: 0.0075 - categorical_accuracy: 0.9985 - val_loss: 0.0589 - val_categorical_accuracy: 0.9800\n",
      "\n",
      "Epoch 00020: saving model to TL_EfficientNetB0(Model2)_(18,120,120,20,20)_2021-10-2006_13_40.628906/model-00020-0.00753-0.99849-0.05888-0.98000.h5\n"
     ]
    },
    {
     "data": {
      "image/png": "[encoded data removed]",
      "text/plain": [
       "<Figure size 1080x288 with 2 Axes>"
      ]
     },
     "metadata": {
      "needs_background": "light"
     },
     "output_type": "display_data"
    },
    {
     "name": "stdout",
     "output_type": "stream",
     "text": [
      "Max. Training Accuracy 1.0\n",
      "Max. Validaiton Accuracy 0.9800000190734863\n"
     ]
    }
   ],
   "source": [
    "from keras.models import Sequential, Model\n",
    "from keras.layers import Dense, GRU, Dropout, Flatten, TimeDistributed, GlobalAveragePooling2D\n",
    "from keras.callbacks import ModelCheckpoint, ReduceLROnPlateau\n",
    "from tensorflow.keras.optimizers import Adam\n",
    "from tensorflow.python.keras import backend\n",
    "from tensorflow.python.keras.applications import imagenet_utils\n",
    "from tensorflow.keras.applications import EfficientNetB0\n",
    "\n",
    "base_model = EfficientNetB0(include_top=False, weights='imagenet', input_shape=(120,120,3))\n",
    "\n",
    "x = base_model.output\n",
    "x = GlobalAveragePooling2D()(x)\n",
    "\n",
    "base_model = Model(inputs=base_model.input, outputs=x)\n",
    "\n",
    "model = Sequential()\n",
    "\n",
    "model.add(TimeDistributed(base_model, input_shape=base_model.input_shape))\n",
    "model.add(TimeDistributed(Flatten(input_shape=base_model.input_shape[1:])))\n",
    "model.add(GRU(64, activation='relu', dropout=0.5))\n",
    "model.add(Dense(5, activation = 'softmax'))\n",
    "\n",
    "#Compliation\n",
    "model.compile(optimizer = Adam(), loss = 'categorical_crossentropy', metrics = ['categorical_accuracy'])\n",
    "print(model.summary())\n",
    "\n",
    "#Genrator Creation \n",
    "\n",
    "train_generator = generator(train_path, train_doc, batch_size)\n",
    "val_generator = generator(val_path, val_doc, batch_size)\n",
    "\n",
    "\n",
    "\n",
    "model_name = 'TL_EfficientNetB0(Model2)' + '_' + '(18,120,120,20,20)' + '_' + str(curr_dt_time).replace(' ','').replace(':','_') + '/'\n",
    "    \n",
    "if not os.path.exists(model_name):\n",
    "    os.mkdir(model_name)\n",
    "        \n",
    "filepath = model_name + 'model-{epoch:05d}-{loss:.5f}-{categorical_accuracy:.5f}-{val_loss:.5f}-{val_categorical_accuracy:.5f}.h5'\n",
    "\n",
    "checkpoint = ModelCheckpoint(filepath, monitor='val_loss', verbose=1, save_best_only=False, save_weights_only=False, mode='auto', period=1)\n",
    "\n",
    "LR = ReduceLROnPlateau(monitor='val_loss', factor=0.5, patience=2, verbose=1, mode='min', epsilon=0.0001, cooldown=0, min_lr=0.00001)\n",
    "callbacks_list = [checkpoint, LR]\n",
    "\n",
    "\n",
    "\n",
    "if (num_train_sequences%batch_size) == 0:\n",
    "    steps_per_epoch = int(num_train_sequences/batch_size)\n",
    "else:\n",
    "    steps_per_epoch = (num_train_sequences//batch_size) + 1\n",
    "\n",
    "if (num_val_sequences%batch_size) == 0:\n",
    "    validation_steps = int(num_val_sequences/batch_size)\n",
    "else:\n",
    "    validation_steps = (num_val_sequences//batch_size) + 1\n",
    "\n",
    "\n",
    "\n",
    "    \n",
    "# Let us now fit the model. This will start training the model and with the help of the checkpoints, you'll be able to save the model at the end of each epoch.'''\n",
    "\n",
    "\n",
    "model1= model.fit(train_generator, steps_per_epoch=steps_per_epoch, epochs=num_epochs, verbose=1, \n",
    "                    callbacks=callbacks_list,validation_data=val_generator, \n",
    "                    validation_steps=validation_steps, class_weight=None, workers=1, initial_epoch=0)\n",
    "\n",
    "plotModelHistory(model1)"
   ]
  },
  {
   "cell_type": "code",
   "execution_count": null,
   "metadata": {
    "id": "TlBxDmiSNjhZ"
   },
   "outputs": [],
   "source": []
  }
 ],
 "metadata": {
  "accelerator": "GPU",
  "colab": {
   "name": "Gesture_Recognition_DeepLearning_Project_Rakesh_Yadav_&_Aditya_Mhamunkar.ipynb",
   "provenance": []
  },
  "interpreter": {
   "hash": "e474e25bd1d4ac0a0da98141bccda39ba3d1af15dbfe77e42b3be416a3ca4274"
  },
  "kernelspec": {
   "display_name": "Python 3",
   "language": "python",
   "name": "python3"
  },
  "language_info": {
   "codemirror_mode": {
    "name": "ipython",
    "version": 3
   },
   "file_extension": ".py",
   "mimetype": "text/x-python",
   "name": "python",
   "nbconvert_exporter": "python",
   "pygments_lexer": "ipython3",
   "version": "3.8.8"
  }
 },
 "nbformat": 4,
 "nbformat_minor": 1
}
